{
 "cells": [
  {
   "cell_type": "markdown",
   "metadata": {},
   "source": [
    "#  Patrick's \"Applied Data Science\" Coursera-Capstone Project!!"
   ]
  },
  {
   "cell_type": "markdown",
   "metadata": {},
   "source": [
    "This Notebook Document's Patrick's \"Applied Data Science\" Coursera-Capstone Project!!"
   ]
  },
  {
   "cell_type": "code",
   "execution_count": 2,
   "metadata": {},
   "outputs": [],
   "source": [
    "import pandas as pd\n",
    "import numpy as np"
   ]
  },
  {
   "cell_type": "code",
   "execution_count": 3,
   "metadata": {},
   "outputs": [
    {
     "name": "stdout",
     "output_type": "stream",
     "text": [
      "Hello Capstone Project Course!\n"
     ]
    }
   ],
   "source": [
    "print(\"Hello Capstone Project Course!\")"
   ]
  },
  {
   "cell_type": "markdown",
   "metadata": {},
   "source": [
    "## The Following Section begins the Peer-graded Assignment: Segmenting and Clustering Neighborhoods in Toronto"
   ]
  },
  {
   "cell_type": "code",
   "execution_count": 4,
   "metadata": {},
   "outputs": [],
   "source": [
    "import json # library to handle JSON files\n",
    "#from geopy.geocoders import Nominatim # convert an address into latitude and longitude values\n",
    "import requests # library to handle requests\n",
    "from pandas.io.json import json_normalize # tranform JSON file into a pandas dataframe\n",
    "\n",
    "# Matplotlib and associated plotting modules\n",
    "import matplotlib.cm as cm\n",
    "import matplotlib.colors as colors\n",
    "\n",
    "# import k-means from clustering stage\n",
    "from sklearn.cluster import KMeans\n",
    "import folium\n",
    "\n",
    "# Import BeautifulSoup package to parse wiki website\n",
    "from bs4 import BeautifulSoup"
   ]
  },
  {
   "cell_type": "markdown",
   "metadata": {},
   "source": [
    "Begin Scraping the Wiki Page for the Toronto Postal Codes, go to URL and Find the Table"
   ]
  },
  {
   "cell_type": "code",
   "execution_count": 5,
   "metadata": {},
   "outputs": [],
   "source": [
    "website_url = requests.get('https://en.wikipedia.org/wiki/List_of_postal_codes_of_Canada:_M').text\n",
    "soup = BeautifulSoup(website_url,'lxml')\n",
    "PC_table = soup.find(\"table\")"
   ]
  },
  {
   "cell_type": "markdown",
   "metadata": {},
   "source": [
    "Parse Extracted Table for text entries, then split text into postal code, borough, and neighborhood and append findings to datframe (ignoring entries with \"Not assigned\" for Borough)"
   ]
  },
  {
   "cell_type": "code",
   "execution_count": 38,
   "metadata": {},
   "outputs": [
    {
     "data": {
      "text/html": [
       "<div>\n",
       "<style scoped>\n",
       "    .dataframe tbody tr th:only-of-type {\n",
       "        vertical-align: middle;\n",
       "    }\n",
       "\n",
       "    .dataframe tbody tr th {\n",
       "        vertical-align: top;\n",
       "    }\n",
       "\n",
       "    .dataframe thead th {\n",
       "        text-align: right;\n",
       "    }\n",
       "</style>\n",
       "<table border=\"1\" class=\"dataframe\">\n",
       "  <thead>\n",
       "    <tr style=\"text-align: right;\">\n",
       "      <th></th>\n",
       "      <th>Postal Code</th>\n",
       "      <th>Borough</th>\n",
       "      <th>Neighborhood</th>\n",
       "    </tr>\n",
       "  </thead>\n",
       "  <tbody>\n",
       "    <tr>\n",
       "      <td>0</td>\n",
       "      <td>M3A</td>\n",
       "      <td>North York</td>\n",
       "      <td>Parkwoods</td>\n",
       "    </tr>\n",
       "    <tr>\n",
       "      <td>1</td>\n",
       "      <td>M4A</td>\n",
       "      <td>North York</td>\n",
       "      <td>Victoria Village</td>\n",
       "    </tr>\n",
       "    <tr>\n",
       "      <td>2</td>\n",
       "      <td>M5A</td>\n",
       "      <td>Downtown Toronto</td>\n",
       "      <td>Regent Park , Harbourfront</td>\n",
       "    </tr>\n",
       "    <tr>\n",
       "      <td>3</td>\n",
       "      <td>M6A</td>\n",
       "      <td>North York</td>\n",
       "      <td>Lawrence Manor , Lawrence Heights</td>\n",
       "    </tr>\n",
       "    <tr>\n",
       "      <td>4</td>\n",
       "      <td>M7A</td>\n",
       "      <td>Queen's Park , Ontario Provincial Government</td>\n",
       "      <td>Queen's Park , Ontario Provincial Government</td>\n",
       "    </tr>\n",
       "    <tr>\n",
       "      <td>5</td>\n",
       "      <td>M9A</td>\n",
       "      <td>Etobicoke</td>\n",
       "      <td>Islington Avenue</td>\n",
       "    </tr>\n",
       "    <tr>\n",
       "      <td>6</td>\n",
       "      <td>M1B</td>\n",
       "      <td>Scarborough</td>\n",
       "      <td>Malvern , Rouge</td>\n",
       "    </tr>\n",
       "    <tr>\n",
       "      <td>7</td>\n",
       "      <td>M3B</td>\n",
       "      <td>North York</td>\n",
       "      <td>Don Mills North</td>\n",
       "    </tr>\n",
       "    <tr>\n",
       "      <td>8</td>\n",
       "      <td>M4B</td>\n",
       "      <td>East York</td>\n",
       "      <td>Parkview Hill , Woodbine Gardens</td>\n",
       "    </tr>\n",
       "    <tr>\n",
       "      <td>9</td>\n",
       "      <td>M5B</td>\n",
       "      <td>Downtown Toronto</td>\n",
       "      <td>Garden District, Ryerson</td>\n",
       "    </tr>\n",
       "    <tr>\n",
       "      <td>10</td>\n",
       "      <td>M6B</td>\n",
       "      <td>North York</td>\n",
       "      <td>Glencairn</td>\n",
       "    </tr>\n",
       "    <tr>\n",
       "      <td>11</td>\n",
       "      <td>M9B</td>\n",
       "      <td>Etobicoke</td>\n",
       "      <td>West Deane Park , Princess Gardens , Martin Gr...</td>\n",
       "    </tr>\n",
       "  </tbody>\n",
       "</table>\n",
       "</div>"
      ],
      "text/plain": [
       "   Postal Code                                       Borough  \\\n",
       "0          M3A                                    North York   \n",
       "1          M4A                                    North York   \n",
       "2          M5A                              Downtown Toronto   \n",
       "3          M6A                                    North York   \n",
       "4          M7A  Queen's Park , Ontario Provincial Government   \n",
       "5          M9A                                     Etobicoke   \n",
       "6          M1B                                   Scarborough   \n",
       "7          M3B                                    North York   \n",
       "8          M4B                                     East York   \n",
       "9          M5B                              Downtown Toronto   \n",
       "10         M6B                                    North York   \n",
       "11         M9B                                     Etobicoke   \n",
       "\n",
       "                                         Neighborhood  \n",
       "0                                          Parkwoods   \n",
       "1                                   Victoria Village   \n",
       "2                         Regent Park , Harbourfront   \n",
       "3                  Lawrence Manor , Lawrence Heights   \n",
       "4        Queen's Park , Ontario Provincial Government  \n",
       "5                                   Islington Avenue   \n",
       "6                                    Malvern , Rouge   \n",
       "7                                     Don Mills North  \n",
       "8                   Parkview Hill , Woodbine Gardens   \n",
       "9                           Garden District, Ryerson   \n",
       "10                                         Glencairn   \n",
       "11  West Deane Park , Princess Gardens , Martin Gr...  "
      ]
     },
     "execution_count": 38,
     "metadata": {},
     "output_type": "execute_result"
    }
   ],
   "source": [
    "df=pd.DataFrame(columns=['Postal Code', 'Borough', 'Neighborhood'])  # Initialize empty dataframe\n",
    "\n",
    "for link in PC_table.find_all(\"td\"):\n",
    "    Link_Text = str(link.text.replace('\\n', ' ').strip())  #strip out carriage returns\n",
    "    postal_code=Link_Text[0:3]\n",
    "    if postal_code.startswith('M')==1:\n",
    "        B1=Link_Text[3:]\n",
    "        if B1.startswith('Not')==0:   # Skip entries that begin with \"Not assigned\"\n",
    "            if B1.find(\"(\")!=-1:\n",
    "                X=B1.split('(')\n",
    "                borough=X[0]\n",
    "                X2=X[1].replace(')',\" \")\n",
    "                X2=X2.replace('/',\",\")\n",
    "                neighborhood=X2\n",
    "            else:\n",
    "                borough=B1.replace('/',\",\")\n",
    "                neighborhood=B1.replace('/',\",\")\n",
    "            \n",
    "            df = df.append({'Postal Code': postal_code, 'Borough': borough, 'Neighborhood': neighborhood}, ignore_index=True)\n",
    "    \n",
    "df.head(12)"
   ]
  },
  {
   "cell_type": "code",
   "execution_count": 7,
   "metadata": {},
   "outputs": [
    {
     "data": {
      "text/plain": [
       "(103, 3)"
      ]
     },
     "execution_count": 7,
     "metadata": {},
     "output_type": "execute_result"
    }
   ],
   "source": [
    "df.shape"
   ]
  },
  {
   "cell_type": "markdown",
   "metadata": {},
   "source": [
    "## Begin the second project of the Assignment"
   ]
  },
  {
   "cell_type": "code",
   "execution_count": 14,
   "metadata": {},
   "outputs": [],
   "source": [
    "import geopy \n",
    "from geopy.geocoders import Nominatim\n",
    "import geocoder"
   ]
  },
  {
   "cell_type": "markdown",
   "metadata": {},
   "source": [
    "I attempted the \"geocoder\" method, but after several attempts with no results I gave up."
   ]
  },
  {
   "cell_type": "code",
   "execution_count": 34,
   "metadata": {},
   "outputs": [],
   "source": [
    "import geocoder # import geocoder\n",
    "\n",
    "# initialize your variable to None\n",
    "#lat_lng_coords = None\n",
    "\n",
    "#result = [] \n",
    "#for value in df[\"PostalCode\"]: \n",
    "#    postal_code=value\n",
    "    # loop until you get the coordinates\n",
    "#    while(lat_lng_coords is None):\n",
    "#        g = geocoder.google('{}, Toronto, Ontario'.format(postal_code))\n",
    "#        lat_lng_coords = g.latlng\n",
    "#        latitude = lat_lng_coords[0]\n",
    "#        longitude = lat_lng_coords[1]\n",
    "#        df = df.append({'Latitude': latitude, 'Longitude': longitude})    \n",
    "\n",
    "#df.head()                    "
   ]
  },
  {
   "cell_type": "markdown",
   "metadata": {},
   "source": [
    "I even tried to get it to work once manually, and after hitting \"ctrl+enter\" about 30 or 40 times with no results, I decided it wasn't going to work for me..."
   ]
  },
  {
   "cell_type": "code",
   "execution_count": 76,
   "metadata": {},
   "outputs": [
    {
     "name": "stdout",
     "output_type": "stream",
     "text": [
      "None\n"
     ]
    }
   ],
   "source": [
    "g = geocoder.google('{}, Toronto, Ontario'.format(\"M1B\"))\n",
    "lat_lng_coords = g.latlng\n",
    "print(lat_lng_coords)"
   ]
  },
  {
   "cell_type": "markdown",
   "metadata": {},
   "source": [
    "Import the Postal Code .csv file and merge with Neighborhood postal codes from above."
   ]
  },
  {
   "cell_type": "code",
   "execution_count": 46,
   "metadata": {},
   "outputs": [
    {
     "data": {
      "text/html": [
       "<div>\n",
       "<style scoped>\n",
       "    .dataframe tbody tr th:only-of-type {\n",
       "        vertical-align: middle;\n",
       "    }\n",
       "\n",
       "    .dataframe tbody tr th {\n",
       "        vertical-align: top;\n",
       "    }\n",
       "\n",
       "    .dataframe thead th {\n",
       "        text-align: right;\n",
       "    }\n",
       "</style>\n",
       "<table border=\"1\" class=\"dataframe\">\n",
       "  <thead>\n",
       "    <tr style=\"text-align: right;\">\n",
       "      <th></th>\n",
       "      <th>Postal Code</th>\n",
       "      <th>Borough</th>\n",
       "      <th>Neighborhood</th>\n",
       "      <th>Latitude</th>\n",
       "      <th>Longitude</th>\n",
       "    </tr>\n",
       "  </thead>\n",
       "  <tbody>\n",
       "    <tr>\n",
       "      <td>0</td>\n",
       "      <td>M3A</td>\n",
       "      <td>North York</td>\n",
       "      <td>Parkwoods</td>\n",
       "      <td>43.753259</td>\n",
       "      <td>-79.329656</td>\n",
       "    </tr>\n",
       "    <tr>\n",
       "      <td>1</td>\n",
       "      <td>M4A</td>\n",
       "      <td>North York</td>\n",
       "      <td>Victoria Village</td>\n",
       "      <td>43.725882</td>\n",
       "      <td>-79.315572</td>\n",
       "    </tr>\n",
       "    <tr>\n",
       "      <td>2</td>\n",
       "      <td>M5A</td>\n",
       "      <td>Downtown Toronto</td>\n",
       "      <td>Regent Park , Harbourfront</td>\n",
       "      <td>43.654260</td>\n",
       "      <td>-79.360636</td>\n",
       "    </tr>\n",
       "    <tr>\n",
       "      <td>3</td>\n",
       "      <td>M6A</td>\n",
       "      <td>North York</td>\n",
       "      <td>Lawrence Manor , Lawrence Heights</td>\n",
       "      <td>43.718518</td>\n",
       "      <td>-79.464763</td>\n",
       "    </tr>\n",
       "    <tr>\n",
       "      <td>4</td>\n",
       "      <td>M7A</td>\n",
       "      <td>Queen's Park , Ontario Provincial Government</td>\n",
       "      <td>Queen's Park , Ontario Provincial Government</td>\n",
       "      <td>43.662301</td>\n",
       "      <td>-79.389494</td>\n",
       "    </tr>\n",
       "    <tr>\n",
       "      <td>5</td>\n",
       "      <td>M9A</td>\n",
       "      <td>Etobicoke</td>\n",
       "      <td>Islington Avenue</td>\n",
       "      <td>43.667856</td>\n",
       "      <td>-79.532242</td>\n",
       "    </tr>\n",
       "    <tr>\n",
       "      <td>6</td>\n",
       "      <td>M1B</td>\n",
       "      <td>Scarborough</td>\n",
       "      <td>Malvern , Rouge</td>\n",
       "      <td>43.806686</td>\n",
       "      <td>-79.194353</td>\n",
       "    </tr>\n",
       "    <tr>\n",
       "      <td>7</td>\n",
       "      <td>M3B</td>\n",
       "      <td>North York</td>\n",
       "      <td>Don Mills North</td>\n",
       "      <td>43.745906</td>\n",
       "      <td>-79.352188</td>\n",
       "    </tr>\n",
       "    <tr>\n",
       "      <td>8</td>\n",
       "      <td>M4B</td>\n",
       "      <td>East York</td>\n",
       "      <td>Parkview Hill , Woodbine Gardens</td>\n",
       "      <td>43.706397</td>\n",
       "      <td>-79.309937</td>\n",
       "    </tr>\n",
       "    <tr>\n",
       "      <td>9</td>\n",
       "      <td>M5B</td>\n",
       "      <td>Downtown Toronto</td>\n",
       "      <td>Garden District, Ryerson</td>\n",
       "      <td>43.657162</td>\n",
       "      <td>-79.378937</td>\n",
       "    </tr>\n",
       "    <tr>\n",
       "      <td>10</td>\n",
       "      <td>M6B</td>\n",
       "      <td>North York</td>\n",
       "      <td>Glencairn</td>\n",
       "      <td>43.709577</td>\n",
       "      <td>-79.445073</td>\n",
       "    </tr>\n",
       "    <tr>\n",
       "      <td>11</td>\n",
       "      <td>M9B</td>\n",
       "      <td>Etobicoke</td>\n",
       "      <td>West Deane Park , Princess Gardens , Martin Gr...</td>\n",
       "      <td>43.650943</td>\n",
       "      <td>-79.554724</td>\n",
       "    </tr>\n",
       "  </tbody>\n",
       "</table>\n",
       "</div>"
      ],
      "text/plain": [
       "   Postal Code                                       Borough  \\\n",
       "0          M3A                                    North York   \n",
       "1          M4A                                    North York   \n",
       "2          M5A                              Downtown Toronto   \n",
       "3          M6A                                    North York   \n",
       "4          M7A  Queen's Park , Ontario Provincial Government   \n",
       "5          M9A                                     Etobicoke   \n",
       "6          M1B                                   Scarborough   \n",
       "7          M3B                                    North York   \n",
       "8          M4B                                     East York   \n",
       "9          M5B                              Downtown Toronto   \n",
       "10         M6B                                    North York   \n",
       "11         M9B                                     Etobicoke   \n",
       "\n",
       "                                         Neighborhood   Latitude  Longitude  \n",
       "0                                          Parkwoods   43.753259 -79.329656  \n",
       "1                                   Victoria Village   43.725882 -79.315572  \n",
       "2                         Regent Park , Harbourfront   43.654260 -79.360636  \n",
       "3                  Lawrence Manor , Lawrence Heights   43.718518 -79.464763  \n",
       "4        Queen's Park , Ontario Provincial Government  43.662301 -79.389494  \n",
       "5                                   Islington Avenue   43.667856 -79.532242  \n",
       "6                                    Malvern , Rouge   43.806686 -79.194353  \n",
       "7                                     Don Mills North  43.745906 -79.352188  \n",
       "8                   Parkview Hill , Woodbine Gardens   43.706397 -79.309937  \n",
       "9                           Garden District, Ryerson   43.657162 -79.378937  \n",
       "10                                         Glencairn   43.709577 -79.445073  \n",
       "11  West Deane Park , Princess Gardens , Martin Gr...  43.650943 -79.554724  "
      ]
     },
     "execution_count": 46,
     "metadata": {},
     "output_type": "execute_result"
    }
   ],
   "source": [
    "filename=\"Geospatial_Coordinates.csv\"\n",
    "df2=pd.read_csv(filename)\n",
    "df3 = pd.merge(df, df2, on=\"Postal Code\")\n",
    "df3.head(12)"
   ]
  }
 ],
 "metadata": {
  "kernelspec": {
   "display_name": "Python 3",
   "language": "python",
   "name": "python3"
  },
  "language_info": {
   "codemirror_mode": {
    "name": "ipython",
    "version": 3
   },
   "file_extension": ".py",
   "mimetype": "text/x-python",
   "name": "python",
   "nbconvert_exporter": "python",
   "pygments_lexer": "ipython3",
   "version": "3.7.4"
  }
 },
 "nbformat": 4,
 "nbformat_minor": 2
}
