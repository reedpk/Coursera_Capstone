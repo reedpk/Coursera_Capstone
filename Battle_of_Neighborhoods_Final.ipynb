{
 "cells": [
  {
   "cell_type": "markdown",
   "metadata": {},
   "source": [
    "## Patrick's \"Battle of the Neighborhoods\" Coursera Capstone Project Notebook!"
   ]
  },
  {
   "cell_type": "markdown",
   "metadata": {},
   "source": [
    "### Problem Set:\n",
    "    Comparing neighborhoods in the cities of Cincinnati and Dayton Ohio\n",
    "    "
   ]
  },
  {
   "cell_type": "markdown",
   "metadata": {},
   "source": [
    "### Criteria: \n",
    "we are going to look at the number of nearby breweries and coffe shops as well as the average home cost to make a decision about the most fun, but affordable neighborhoods/city to live in."
   ]
  },
  {
   "cell_type": "markdown",
   "metadata": {},
   "source": [
    "### Use case: \n",
    "This type of analysis would be useful for home buyers looking for the best neighborhood to live in, or for investors looking for the best neighborhood to invest in (or where the market is saturated)."
   ]
  },
  {
   "cell_type": "markdown",
   "metadata": {},
   "source": [
    "### Data:\n",
    "The data used in this notebook is a table of city neighborhood data and locations with Zillow real estate average home cost added.\n",
    "This data will be combined with a venue category search (brewery and coffee shop) to get three data points per neighborhood to complete the cluster analysis on."
   ]
  },
  {
   "cell_type": "markdown",
   "metadata": {},
   "source": [
    "Why brewery and Coffee shop? ...clusters of these buisnesses tend to open in trendy upcomming neighborhoods where real estate values are still cheap, but young professionals are congregating."
   ]
  },
  {
   "cell_type": "markdown",
   "metadata": {},
   "source": [
    "..."
   ]
  },
  {
   "cell_type": "markdown",
   "metadata": {},
   "source": [
    "#### Prepare the environment by importing all necessary modules"
   ]
  },
  {
   "cell_type": "code",
   "execution_count": 295,
   "metadata": {},
   "outputs": [],
   "source": [
    "import pandas as pd\n",
    "import numpy as np\n",
    "import json                                # library to handle JSON files\n",
    "from geopy.geocoders import Nominatim      # convert an address into latitude and longitude values\n",
    "import requests                            # library to handle requests\n",
    "from pandas.io.json import json_normalize  # tranform JSON file into a pandas dataframe\n",
    "import matplotlib.cm as cm                 # Matplotlib and associated plotting modules\n",
    "import matplotlib.colors as colors\n",
    "import matplotlib as mpl\n",
    "import matplotlib.pyplot as plt\n",
    "from sklearn.cluster import KMeans         # import k-means from clustering stage\n",
    "import folium\n",
    "from bs4 import BeautifulSoup              # Import BeautifulSoup package to parse wiki website\n",
    "import geocoder\n",
    "import fastkml\n",
    "from fastkml import  kml\n",
    "import quandl                              # Setup API for neighborhood housing data\n",
    "quandl.ApiConfig.api_key = \"wYmDtm_wythZw4HbXAKr\""
   ]
  },
  {
   "cell_type": "markdown",
   "metadata": {},
   "source": [
    "..."
   ]
  },
  {
   "cell_type": "markdown",
   "metadata": {},
   "source": [
    "## Part 1: Data Wrangling - Gather City / Neighborhood Information"
   ]
  },
  {
   "cell_type": "markdown",
   "metadata": {},
   "source": [
    "#### Read in the Dayton, OH Neighborhood Data with Latitude, Longitude data as well as real estate sales information from Zillow"
   ]
  },
  {
   "cell_type": "code",
   "execution_count": 296,
   "metadata": {},
   "outputs": [
    {
     "name": "stdout",
     "output_type": "stream",
     "text": [
      "(62, 7)\n"
     ]
    },
    {
     "data": {
      "text/html": [
       "<div>\n",
       "<style scoped>\n",
       "    .dataframe tbody tr th:only-of-type {\n",
       "        vertical-align: middle;\n",
       "    }\n",
       "\n",
       "    .dataframe tbody tr th {\n",
       "        vertical-align: top;\n",
       "    }\n",
       "\n",
       "    .dataframe thead th {\n",
       "        text-align: right;\n",
       "    }\n",
       "</style>\n",
       "<table border=\"1\" class=\"dataframe\">\n",
       "  <thead>\n",
       "    <tr style=\"text-align: right;\">\n",
       "      <th></th>\n",
       "      <th>Latitude</th>\n",
       "      <th>Longitude</th>\n",
       "      <th>Neighborhood</th>\n",
       "      <th>City</th>\n",
       "      <th>State</th>\n",
       "      <th>County</th>\n",
       "      <th>Home Value</th>\n",
       "    </tr>\n",
       "  </thead>\n",
       "  <tbody>\n",
       "    <tr>\n",
       "      <td>0</td>\n",
       "      <td>39.747656</td>\n",
       "      <td>-84.245002</td>\n",
       "      <td>Arlington Heights</td>\n",
       "      <td>Dayton</td>\n",
       "      <td>OH</td>\n",
       "      <td>Montgomery</td>\n",
       "      <td>30823</td>\n",
       "    </tr>\n",
       "    <tr>\n",
       "      <td>1</td>\n",
       "      <td>39.709226</td>\n",
       "      <td>-84.063269</td>\n",
       "      <td>Beavercreek</td>\n",
       "      <td>Dayton</td>\n",
       "      <td>OH</td>\n",
       "      <td>Greene</td>\n",
       "      <td>217489</td>\n",
       "    </tr>\n",
       "    <tr>\n",
       "      <td>2</td>\n",
       "      <td>39.733461</td>\n",
       "      <td>-84.140875</td>\n",
       "      <td>Belmont</td>\n",
       "      <td>Dayton</td>\n",
       "      <td>OH</td>\n",
       "      <td>Montgomery</td>\n",
       "      <td>87032</td>\n",
       "    </tr>\n",
       "    <tr>\n",
       "      <td>3</td>\n",
       "      <td>39.759672</td>\n",
       "      <td>-84.151428</td>\n",
       "      <td>Burkhardt</td>\n",
       "      <td>Dayton</td>\n",
       "      <td>OH</td>\n",
       "      <td>Montgomery</td>\n",
       "      <td>61238</td>\n",
       "    </tr>\n",
       "    <tr>\n",
       "      <td>4</td>\n",
       "      <td>39.741796</td>\n",
       "      <td>-84.200474</td>\n",
       "      <td>Carillon</td>\n",
       "      <td>Dayton</td>\n",
       "      <td>OH</td>\n",
       "      <td>Montgomery</td>\n",
       "      <td>31161</td>\n",
       "    </tr>\n",
       "    <tr>\n",
       "      <td>5</td>\n",
       "      <td>39.783338</td>\n",
       "      <td>-84.239734</td>\n",
       "      <td>College Hill</td>\n",
       "      <td>Dayton</td>\n",
       "      <td>OH</td>\n",
       "      <td>Montgomery</td>\n",
       "      <td>49168</td>\n",
       "    </tr>\n",
       "    <tr>\n",
       "      <td>6</td>\n",
       "      <td>39.773070</td>\n",
       "      <td>-84.239734</td>\n",
       "      <td>Cornell Heights</td>\n",
       "      <td>Dayton</td>\n",
       "      <td>OH</td>\n",
       "      <td>Montgomery</td>\n",
       "      <td>34983</td>\n",
       "    </tr>\n",
       "    <tr>\n",
       "      <td>7</td>\n",
       "      <td>39.780248</td>\n",
       "      <td>-84.229197</td>\n",
       "      <td>Dayton View Triangle</td>\n",
       "      <td>Dayton</td>\n",
       "      <td>OH</td>\n",
       "      <td>Montgomery</td>\n",
       "      <td>69062</td>\n",
       "    </tr>\n",
       "    <tr>\n",
       "      <td>8</td>\n",
       "      <td>39.797985</td>\n",
       "      <td>-84.198892</td>\n",
       "      <td>DeWeese</td>\n",
       "      <td>Dayton</td>\n",
       "      <td>OH</td>\n",
       "      <td>Montgomery</td>\n",
       "      <td>85244</td>\n",
       "    </tr>\n",
       "    <tr>\n",
       "      <td>9</td>\n",
       "      <td>39.760571</td>\n",
       "      <td>-84.194938</td>\n",
       "      <td>Downtown</td>\n",
       "      <td>Dayton</td>\n",
       "      <td>OH</td>\n",
       "      <td>Montgomery</td>\n",
       "      <td>169512</td>\n",
       "    </tr>\n",
       "  </tbody>\n",
       "</table>\n",
       "</div>"
      ],
      "text/plain": [
       "    Latitude  Longitude          Neighborhood    City State      County  \\\n",
       "0  39.747656 -84.245002     Arlington Heights  Dayton    OH  Montgomery   \n",
       "1  39.709226 -84.063269           Beavercreek  Dayton    OH      Greene   \n",
       "2  39.733461 -84.140875               Belmont  Dayton    OH  Montgomery   \n",
       "3  39.759672 -84.151428             Burkhardt  Dayton    OH  Montgomery   \n",
       "4  39.741796 -84.200474              Carillon  Dayton    OH  Montgomery   \n",
       "5  39.783338 -84.239734          College Hill  Dayton    OH  Montgomery   \n",
       "6  39.773070 -84.239734       Cornell Heights  Dayton    OH  Montgomery   \n",
       "7  39.780248 -84.229197  Dayton View Triangle  Dayton    OH  Montgomery   \n",
       "8  39.797985 -84.198892               DeWeese  Dayton    OH  Montgomery   \n",
       "9  39.760571 -84.194938              Downtown  Dayton    OH  Montgomery   \n",
       "\n",
       "   Home Value  \n",
       "0       30823  \n",
       "1      217489  \n",
       "2       87032  \n",
       "3       61238  \n",
       "4       31161  \n",
       "5       49168  \n",
       "6       34983  \n",
       "7       69062  \n",
       "8       85244  \n",
       "9      169512  "
      ]
     },
     "execution_count": 296,
     "metadata": {},
     "output_type": "execute_result"
    }
   ],
   "source": [
    "filename=\"Dayton_hoods2.csv\"\n",
    "Dayton_data=pd.read_csv(filename)\n",
    "print(Dayton_data.shape)\n",
    "Dayton_data.head(10)"
   ]
  },
  {
   "cell_type": "markdown",
   "metadata": {},
   "source": [
    "#### Now, Read in the Cincinnati, OH Neighborhood Data with Latitude, Longitude data as real estate sales information from Zillow"
   ]
  },
  {
   "cell_type": "code",
   "execution_count": 297,
   "metadata": {},
   "outputs": [
    {
     "name": "stdout",
     "output_type": "stream",
     "text": [
      "(62, 7)\n"
     ]
    },
    {
     "data": {
      "text/html": [
       "<div>\n",
       "<style scoped>\n",
       "    .dataframe tbody tr th:only-of-type {\n",
       "        vertical-align: middle;\n",
       "    }\n",
       "\n",
       "    .dataframe tbody tr th {\n",
       "        vertical-align: top;\n",
       "    }\n",
       "\n",
       "    .dataframe thead th {\n",
       "        text-align: right;\n",
       "    }\n",
       "</style>\n",
       "<table border=\"1\" class=\"dataframe\">\n",
       "  <thead>\n",
       "    <tr style=\"text-align: right;\">\n",
       "      <th></th>\n",
       "      <th>Neighborhood</th>\n",
       "      <th>Latitude</th>\n",
       "      <th>Longitude</th>\n",
       "      <th>City</th>\n",
       "      <th>State</th>\n",
       "      <th>County</th>\n",
       "      <th>House Value</th>\n",
       "    </tr>\n",
       "  </thead>\n",
       "  <tbody>\n",
       "    <tr>\n",
       "      <td>0</td>\n",
       "      <td>Avondale</td>\n",
       "      <td>39.144963</td>\n",
       "      <td>-84.497811</td>\n",
       "      <td>Cincinnati</td>\n",
       "      <td>OH</td>\n",
       "      <td>Hamilton</td>\n",
       "      <td>81719</td>\n",
       "    </tr>\n",
       "    <tr>\n",
       "      <td>1</td>\n",
       "      <td>Bond Hill</td>\n",
       "      <td>39.177785</td>\n",
       "      <td>-84.477659</td>\n",
       "      <td>Cincinnati</td>\n",
       "      <td>OH</td>\n",
       "      <td>Hamilton</td>\n",
       "      <td>111614</td>\n",
       "    </tr>\n",
       "    <tr>\n",
       "      <td>2</td>\n",
       "      <td>California</td>\n",
       "      <td>39.065338</td>\n",
       "      <td>-84.419893</td>\n",
       "      <td>Cincinnati</td>\n",
       "      <td>OH</td>\n",
       "      <td>Hamilton</td>\n",
       "      <td>128577</td>\n",
       "    </tr>\n",
       "    <tr>\n",
       "      <td>3</td>\n",
       "      <td>Camp Washington</td>\n",
       "      <td>39.137950</td>\n",
       "      <td>-84.537609</td>\n",
       "      <td>Cincinnati</td>\n",
       "      <td>OH</td>\n",
       "      <td>Hamilton</td>\n",
       "      <td>58310</td>\n",
       "    </tr>\n",
       "    <tr>\n",
       "      <td>4</td>\n",
       "      <td>Carthage</td>\n",
       "      <td>39.195869</td>\n",
       "      <td>-84.485014</td>\n",
       "      <td>Cincinnati</td>\n",
       "      <td>OH</td>\n",
       "      <td>Hamilton</td>\n",
       "      <td>68406</td>\n",
       "    </tr>\n",
       "    <tr>\n",
       "      <td>5</td>\n",
       "      <td>Clifton Heights</td>\n",
       "      <td>39.125934</td>\n",
       "      <td>-84.520908</td>\n",
       "      <td>Cincinnati</td>\n",
       "      <td>OH</td>\n",
       "      <td>Hamilton</td>\n",
       "      <td>298535</td>\n",
       "    </tr>\n",
       "    <tr>\n",
       "      <td>6</td>\n",
       "      <td>College Hill</td>\n",
       "      <td>39.198536</td>\n",
       "      <td>-84.548428</td>\n",
       "      <td>Cincinnati</td>\n",
       "      <td>OH</td>\n",
       "      <td>Hamilton</td>\n",
       "      <td>130138</td>\n",
       "    </tr>\n",
       "    <tr>\n",
       "      <td>7</td>\n",
       "      <td>Columbia-Tusculum</td>\n",
       "      <td>39.115193</td>\n",
       "      <td>-84.436140</td>\n",
       "      <td>Cincinnati</td>\n",
       "      <td>OH</td>\n",
       "      <td>Hamilton</td>\n",
       "      <td>325009</td>\n",
       "    </tr>\n",
       "    <tr>\n",
       "      <td>8</td>\n",
       "      <td>Corryville</td>\n",
       "      <td>39.136807</td>\n",
       "      <td>-84.503866</td>\n",
       "      <td>Cincinnati</td>\n",
       "      <td>OH</td>\n",
       "      <td>Hamilton</td>\n",
       "      <td>158269</td>\n",
       "    </tr>\n",
       "    <tr>\n",
       "      <td>9</td>\n",
       "      <td>CUF</td>\n",
       "      <td>39.125115</td>\n",
       "      <td>-84.525842</td>\n",
       "      <td>Cincinnati</td>\n",
       "      <td>OH</td>\n",
       "      <td>Hamilton</td>\n",
       "      <td>161286</td>\n",
       "    </tr>\n",
       "  </tbody>\n",
       "</table>\n",
       "</div>"
      ],
      "text/plain": [
       "        Neighborhood   Latitude  Longitude        City State    County  \\\n",
       "0           Avondale  39.144963 -84.497811  Cincinnati    OH  Hamilton   \n",
       "1          Bond Hill  39.177785 -84.477659  Cincinnati    OH  Hamilton   \n",
       "2         California  39.065338 -84.419893  Cincinnati    OH  Hamilton   \n",
       "3    Camp Washington  39.137950 -84.537609  Cincinnati    OH  Hamilton   \n",
       "4           Carthage  39.195869 -84.485014  Cincinnati    OH  Hamilton   \n",
       "5    Clifton Heights  39.125934 -84.520908  Cincinnati    OH  Hamilton   \n",
       "6       College Hill  39.198536 -84.548428  Cincinnati    OH  Hamilton   \n",
       "7  Columbia-Tusculum  39.115193 -84.436140  Cincinnati    OH  Hamilton   \n",
       "8         Corryville  39.136807 -84.503866  Cincinnati    OH  Hamilton   \n",
       "9                CUF  39.125115 -84.525842  Cincinnati    OH  Hamilton   \n",
       "\n",
       "   House Value  \n",
       "0        81719  \n",
       "1       111614  \n",
       "2       128577  \n",
       "3        58310  \n",
       "4        68406  \n",
       "5       298535  \n",
       "6       130138  \n",
       "7       325009  \n",
       "8       158269  \n",
       "9       161286  "
      ]
     },
     "execution_count": 297,
     "metadata": {},
     "output_type": "execute_result"
    }
   ],
   "source": [
    "filename=\"Cincinnati_hoods2.csv\"\n",
    "Cincinnati_data=pd.read_csv(filename)\n",
    "print(Cincinnati_data.shape)\n",
    "Cincinnati_data.head(10)"
   ]
  },
  {
   "cell_type": "markdown",
   "metadata": {},
   "source": [
    "### Now, with the neighborhood data, we can visualize it on a map using folium "
   ]
  },
  {
   "cell_type": "code",
   "execution_count": 298,
   "metadata": {},
   "outputs": [
    {
     "name": "stdout",
     "output_type": "stream",
     "text": [
      "The geograpical coordinate of Dayton, OH are 39.7589478, -84.1916069.\n"
     ]
    }
   ],
   "source": [
    "address = 'Dayton, OH'\n",
    "\n",
    "geolocator = Nominatim(user_agent=\"OH_explorer\")\n",
    "location = geolocator.geocode(address)\n",
    "latitude = location.latitude\n",
    "longitude = location.longitude\n",
    "print('The geograpical coordinate of Dayton, OH are {}, {}.'.format(latitude, longitude))"
   ]
  },
  {
   "cell_type": "code",
   "execution_count": 299,
   "metadata": {},
   "outputs": [
    {
     "data": {
      "text/html": [
       "<div style=\"width:100%;\"><div style=\"position:relative;width:100%;height:0;padding-bottom:60%;\"><iframe src=\"about:blank\" style=\"position:absolute;width:100%;height:100%;left:0;top:0;border:none !important;\" data-html=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 onload=\"this.contentDocument.open();this.contentDocument.write(atob(this.getAttribute('data-html')));this.contentDocument.close();\" allowfullscreen webkitallowfullscreen mozallowfullscreen></iframe></div></div>"
      ],
      "text/plain": [
       "<folium.folium.Map at 0x10702e30>"
      ]
     },
     "execution_count": 299,
     "metadata": {},
     "output_type": "execute_result"
    }
   ],
   "source": [
    "# create map ofDayton, OH using latitude and longitude values\n",
    "map_Dayton = folium.Map(location=[latitude, longitude], zoom_start=12)\n",
    "\n",
    "# add markers to map\n",
    "for lat, lng, neighborhood in zip(Dayton_data['Latitude'], Dayton_data['Longitude'], Dayton_data['Neighborhood']):\n",
    "    label = '{}'.format(neighborhood)\n",
    "    label = folium.Popup(label, parse_html=True)\n",
    "    folium.CircleMarker(\n",
    "        [lat, lng],\n",
    "        radius=5,\n",
    "        popup=label,\n",
    "        color='blue',\n",
    "        fill=True,\n",
    "        fill_color='#3186cc',\n",
    "        fill_opacity=0.7,\n",
    "        parse_html=False).add_to(map_Dayton)  \n",
    "    \n",
    "map_Dayton"
   ]
  },
  {
   "cell_type": "code",
   "execution_count": 300,
   "metadata": {},
   "outputs": [
    {
     "name": "stdout",
     "output_type": "stream",
     "text": [
      "The geograpical coordinate of Cincinnati, OH are 39.1014537, -84.5124602.\n"
     ]
    }
   ],
   "source": [
    "address = 'Cincinnati, OH'\n",
    "\n",
    "geolocator = Nominatim(user_agent=\"OH_explorer\")\n",
    "location = geolocator.geocode(address)\n",
    "latitude = location.latitude\n",
    "longitude = location.longitude\n",
    "print('The geograpical coordinate of Cincinnati, OH are {}, {}.'.format(latitude, longitude))"
   ]
  },
  {
   "cell_type": "code",
   "execution_count": 301,
   "metadata": {},
   "outputs": [
    {
     "data": {
      "text/html": [
       "<div style=\"width:100%;\"><div style=\"position:relative;width:100%;height:0;padding-bottom:60%;\"><iframe src=\"about:blank\" style=\"position:absolute;width:100%;height:100%;left:0;top:0;border:none !important;\" data-html=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 onload=\"this.contentDocument.open();this.contentDocument.write(atob(this.getAttribute('data-html')));this.contentDocument.close();\" allowfullscreen webkitallowfullscreen mozallowfullscreen></iframe></div></div>"
      ],
      "text/plain": [
       "<folium.folium.Map at 0x105b3b10>"
      ]
     },
     "execution_count": 301,
     "metadata": {},
     "output_type": "execute_result"
    }
   ],
   "source": [
    "# create map ofCincinnati, OH using latitude and longitude values\n",
    "map_Cincinnati = folium.Map(location=[latitude, longitude], zoom_start=11)\n",
    "\n",
    "# add markers to map\n",
    "for lat, lng, neighborhood in zip(Cincinnati_data['Latitude'], Cincinnati_data['Longitude'], Cincinnati_data['Neighborhood']):\n",
    "    label = '{}'.format(neighborhood)\n",
    "    label = folium.Popup(label, parse_html=True)\n",
    "    folium.CircleMarker(\n",
    "        [lat, lng],\n",
    "        radius=5,\n",
    "        popup=label,\n",
    "        color='blue',\n",
    "        fill=True,\n",
    "        fill_color='#3186cc',\n",
    "        fill_opacity=0.7,\n",
    "        parse_html=False).add_to(map_Cincinnati)  \n",
    "    \n",
    "map_Cincinnati"
   ]
  },
  {
   "cell_type": "markdown",
   "metadata": {},
   "source": [
    "## Now Use FourSquare to Gather Venue Data for the Two Cities\n",
    "### \"Trendy\" Venues Chosen for focus: Breweries and Coffee Shops"
   ]
  },
  {
   "cell_type": "markdown",
   "metadata": {},
   "source": [
    "#### Set up FourSquare Client information"
   ]
  },
  {
   "cell_type": "code",
   "execution_count": 53,
   "metadata": {},
   "outputs": [
    {
     "name": "stdout",
     "output_type": "stream",
     "text": [
      "Your credentails:\n",
      "CLIENT_ID: G4XYV2OWUJSPBPVI00SJXGVWFAP21E3ZNJXHWTSAODQPKIVG\n",
      "CLIENT_SECRET:J3TXUHL4AZBXEYYRU2OF4OW33BXUR1KKSCMWHLJOKYQUJK2I\n"
     ]
    }
   ],
   "source": [
    "CLIENT_ID = 'G4XYV2OWUJSPBPVI00SJXGVWFAP21E3ZNJXHWTSAODQPKIVG' # your Foursquare ID\n",
    "CLIENT_SECRET = 'J3TXUHL4AZBXEYYRU2OF4OW33BXUR1KKSCMWHLJOKYQUJK2I' # your Foursquare Secret\n",
    "#VERSION = '20180605' # Foursquare API version\n",
    "VERSION = '20200101' # Foursquare API version\n",
    "print('Your credentails:')\n",
    "print('CLIENT_ID: ' + CLIENT_ID)\n",
    "print('CLIENT_SECRET:' + CLIENT_SECRET)"
   ]
  },
  {
   "cell_type": "code",
   "execution_count": 302,
   "metadata": {},
   "outputs": [],
   "source": [
    "# Find Brewery Venue Locations in Dayton Ohio\n",
    "Dayton_venues = getNearbyVenues(names=Dayton_data['Neighborhood'],\n",
    "                                   latitudes=Dayton_data['Latitude'],\n",
    "                                   longitudes=Dayton_data['Longitude']\n",
    "                                  )"
   ]
  },
  {
   "cell_type": "code",
   "execution_count": 303,
   "metadata": {},
   "outputs": [],
   "source": [
    "# Find Coffee Shop Venue Locations in Dayton Ohio\n",
    "Dayton_venues2 = getNearbyVenues2(names=Dayton_data['Neighborhood'],\n",
    "                                   latitudes=Dayton_data['Latitude'],\n",
    "                                   longitudes=Dayton_data['Longitude']\n",
    "                                  )"
   ]
  },
  {
   "cell_type": "code",
   "execution_count": 304,
   "metadata": {},
   "outputs": [],
   "source": [
    "# Find Brewery Venue Locations in Cincinnati Ohio\n",
    "Cincinnati_venues = getNearbyVenues(names=Cincinnati_data['Neighborhood'],\n",
    "                                   latitudes=Cincinnati_data['Latitude'],\n",
    "                                   longitudes=Cincinnati_data['Longitude']\n",
    "                                  )"
   ]
  },
  {
   "cell_type": "code",
   "execution_count": 305,
   "metadata": {},
   "outputs": [],
   "source": [
    "# Find Coffee Shop Venue Locations in Cincinnati Ohio\n",
    "Cincinnati_venues2 = getNearbyVenues2(names=Cincinnati_data['Neighborhood'],\n",
    "                                   latitudes=Cincinnati_data['Latitude'],\n",
    "                                   longitudes=Cincinnati_data['Longitude']\n",
    "                                  )"
   ]
  },
  {
   "cell_type": "markdown",
   "metadata": {},
   "source": [
    "#### Look at the size of the resulting venue outputs"
   ]
  },
  {
   "cell_type": "code",
   "execution_count": 306,
   "metadata": {},
   "outputs": [
    {
     "name": "stdout",
     "output_type": "stream",
     "text": [
      "Dayton Brew Shape: (69, 7)\n",
      "Dayton Coffee Shape: (69, 7)\n",
      "Cincinnati Brew Shape: (184, 7)\n",
      "Cincinnati Coffee Shape: (184, 7)\n"
     ]
    }
   ],
   "source": [
    "print('Dayton Brew Shape:',Dayton_venues.shape)\n",
    "print('Dayton Coffee Shape:',Dayton_venues.shape)\n",
    "print('Cincinnati Brew Shape:',Cincinnati_venues.shape)\n",
    "print('Cincinnati Coffee Shape:',Cincinnati_venues.shape)"
   ]
  },
  {
   "cell_type": "markdown",
   "metadata": {},
   "source": [
    "### The FourSquare Search returned \"Cafes\" as well as \"Coffee shops\". I want to focus on Coffeeshops in particular so I drop the rows with \"cafe\".   Similarly, Drop \"bar\" and \"Pub\" from the Brewery Category."
   ]
  },
  {
   "cell_type": "code",
   "execution_count": 307,
   "metadata": {},
   "outputs": [],
   "source": [
    "Dayton_venues2.drop(Dayton_venues2[ Dayton_venues2['Coffeeshop Category'] == 'Café' ].index , inplace=True)\n",
    "Cincinnati_venues2.drop(Cincinnati_venues2[Cincinnati_venues2['Coffeeshop Category'] == 'Café' ].index , inplace=True)\n",
    "Cincinnati_venues.drop(Cincinnati_venues[Cincinnati_venues['Brewery Category'] == 'Bar' ].index , inplace=True)\n",
    "Cincinnati_venues.drop(Cincinnati_venues[Cincinnati_venues['Brewery Category'] == 'Pub' ].index , inplace=True)"
   ]
  },
  {
   "cell_type": "code",
   "execution_count": 308,
   "metadata": {},
   "outputs": [],
   "source": [
    "Dayton_venues.to_csv(r'Dayton_brews.csv', index = False, header=True)\n",
    "Dayton_venues2.to_csv(r'Dayton_coffee.csv', index = False, header=True)\n",
    "Cincinnati_venues.to_csv(r'Cincy_brews.csv', index = False, header=True)\n",
    "Cincinnati_venues2.to_csv(r'Cincy_coffee.csv', index = False, header=True)\n"
   ]
  },
  {
   "cell_type": "markdown",
   "metadata": {},
   "source": [
    " ### Now, group each search by \"Neighborhood\" and count of Brewery / Coffeeshop"
   ]
  },
  {
   "cell_type": "code",
   "execution_count": 309,
   "metadata": {},
   "outputs": [],
   "source": [
    "# For Dayton\n",
    "Dayton_Coffee = Dayton_venues2.groupby('Neighborhood').count()  # Provide a count of Coffeeshops per neighborhood\n",
    "Dayton_Brew = Dayton_venues.groupby('Neighborhood').count()     # Provide a count of Breweries per neighborhood\n",
    "# For Cincinnati\n",
    "Cincinnati_Coffee = Cincinnati_venues2.groupby('Neighborhood').count()  # Provide a count of Coffeeshops per neighborhood\n",
    "Cincinnati_Brew = Cincinnati_venues.groupby('Neighborhood').count()     # Provide a count of Breweries per neighborhood"
   ]
  },
  {
   "cell_type": "markdown",
   "metadata": {},
   "source": [
    "### Now merge all the search results back together, first for Dayton, the repeat for Cincinnati"
   ]
  },
  {
   "cell_type": "code",
   "execution_count": 310,
   "metadata": {},
   "outputs": [
    {
     "name": "stdout",
     "output_type": "stream",
     "text": [
      "(31, 3)\n"
     ]
    },
    {
     "data": {
      "text/html": [
       "<div>\n",
       "<style scoped>\n",
       "    .dataframe tbody tr th:only-of-type {\n",
       "        vertical-align: middle;\n",
       "    }\n",
       "\n",
       "    .dataframe tbody tr th {\n",
       "        vertical-align: top;\n",
       "    }\n",
       "\n",
       "    .dataframe thead th {\n",
       "        text-align: right;\n",
       "    }\n",
       "</style>\n",
       "<table border=\"1\" class=\"dataframe\">\n",
       "  <thead>\n",
       "    <tr style=\"text-align: right;\">\n",
       "      <th></th>\n",
       "      <th>Neighborhood</th>\n",
       "      <th>Brewery</th>\n",
       "      <th>Coffeeshop</th>\n",
       "    </tr>\n",
       "  </thead>\n",
       "  <tbody>\n",
       "    <tr>\n",
       "      <td>0</td>\n",
       "      <td>Belmont</td>\n",
       "      <td>3</td>\n",
       "      <td>4</td>\n",
       "    </tr>\n",
       "    <tr>\n",
       "      <td>1</td>\n",
       "      <td>Burkhardt</td>\n",
       "      <td>1</td>\n",
       "      <td>1</td>\n",
       "    </tr>\n",
       "    <tr>\n",
       "      <td>2</td>\n",
       "      <td>Carillon</td>\n",
       "      <td>1</td>\n",
       "      <td>1</td>\n",
       "    </tr>\n",
       "    <tr>\n",
       "      <td>3</td>\n",
       "      <td>College Hill</td>\n",
       "      <td>1</td>\n",
       "      <td>0</td>\n",
       "    </tr>\n",
       "    <tr>\n",
       "      <td>4</td>\n",
       "      <td>Cornell Heights</td>\n",
       "      <td>1</td>\n",
       "      <td>0</td>\n",
       "    </tr>\n",
       "  </tbody>\n",
       "</table>\n",
       "</div>"
      ],
      "text/plain": [
       "      Neighborhood  Brewery  Coffeeshop\n",
       "0          Belmont        3           4\n",
       "1        Burkhardt        1           1\n",
       "2         Carillon        1           1\n",
       "3     College Hill        1           0\n",
       "4  Cornell Heights        1           0"
      ]
     },
     "execution_count": 310,
     "metadata": {},
     "output_type": "execute_result"
    }
   ],
   "source": [
    "Dayton_Brew2=Dayton_Brew[['Brewery']]\n",
    "Dayton_Brew2 = Dayton_Brew2.reset_index()\n",
    "\n",
    "Dayton_Coffee2=Dayton_Coffee[['Coffeeshop']]\n",
    "Dayton_Coffee2 = Dayton_Coffee2.reset_index()\n",
    "\n",
    "Dayton_merged = Dayton_Brew2.join(Dayton_Coffee2.set_index('Neighborhood'), on='Neighborhood')\n",
    "Dayton_merged =Dayton_merged.fillna(0)\n",
    "Dayton_merged =Dayton_merged.astype({'Coffeeshop': 'int32'})\n",
    "print(Dayton_merged.shape)\n",
    "Dayton_merged.head()"
   ]
  },
  {
   "cell_type": "code",
   "execution_count": 311,
   "metadata": {},
   "outputs": [
    {
     "name": "stdout",
     "output_type": "stream",
     "text": [
      "(62, 9)\n"
     ]
    },
    {
     "data": {
      "text/html": [
       "<div>\n",
       "<style scoped>\n",
       "    .dataframe tbody tr th:only-of-type {\n",
       "        vertical-align: middle;\n",
       "    }\n",
       "\n",
       "    .dataframe tbody tr th {\n",
       "        vertical-align: top;\n",
       "    }\n",
       "\n",
       "    .dataframe thead th {\n",
       "        text-align: right;\n",
       "    }\n",
       "</style>\n",
       "<table border=\"1\" class=\"dataframe\">\n",
       "  <thead>\n",
       "    <tr style=\"text-align: right;\">\n",
       "      <th></th>\n",
       "      <th>Latitude</th>\n",
       "      <th>Longitude</th>\n",
       "      <th>Neighborhood</th>\n",
       "      <th>City</th>\n",
       "      <th>State</th>\n",
       "      <th>County</th>\n",
       "      <th>Home Value</th>\n",
       "      <th>Brewery</th>\n",
       "      <th>Coffeeshop</th>\n",
       "    </tr>\n",
       "  </thead>\n",
       "  <tbody>\n",
       "    <tr>\n",
       "      <td>0</td>\n",
       "      <td>39.747656</td>\n",
       "      <td>-84.245002</td>\n",
       "      <td>Arlington Heights</td>\n",
       "      <td>Dayton</td>\n",
       "      <td>OH</td>\n",
       "      <td>Montgomery</td>\n",
       "      <td>30823</td>\n",
       "      <td>0</td>\n",
       "      <td>0</td>\n",
       "    </tr>\n",
       "    <tr>\n",
       "      <td>1</td>\n",
       "      <td>39.709226</td>\n",
       "      <td>-84.063269</td>\n",
       "      <td>Beavercreek</td>\n",
       "      <td>Dayton</td>\n",
       "      <td>OH</td>\n",
       "      <td>Greene</td>\n",
       "      <td>217489</td>\n",
       "      <td>0</td>\n",
       "      <td>0</td>\n",
       "    </tr>\n",
       "    <tr>\n",
       "      <td>2</td>\n",
       "      <td>39.733461</td>\n",
       "      <td>-84.140875</td>\n",
       "      <td>Belmont</td>\n",
       "      <td>Dayton</td>\n",
       "      <td>OH</td>\n",
       "      <td>Montgomery</td>\n",
       "      <td>87032</td>\n",
       "      <td>3</td>\n",
       "      <td>4</td>\n",
       "    </tr>\n",
       "    <tr>\n",
       "      <td>3</td>\n",
       "      <td>39.759672</td>\n",
       "      <td>-84.151428</td>\n",
       "      <td>Burkhardt</td>\n",
       "      <td>Dayton</td>\n",
       "      <td>OH</td>\n",
       "      <td>Montgomery</td>\n",
       "      <td>61238</td>\n",
       "      <td>1</td>\n",
       "      <td>1</td>\n",
       "    </tr>\n",
       "    <tr>\n",
       "      <td>4</td>\n",
       "      <td>39.741796</td>\n",
       "      <td>-84.200474</td>\n",
       "      <td>Carillon</td>\n",
       "      <td>Dayton</td>\n",
       "      <td>OH</td>\n",
       "      <td>Montgomery</td>\n",
       "      <td>31161</td>\n",
       "      <td>1</td>\n",
       "      <td>1</td>\n",
       "    </tr>\n",
       "  </tbody>\n",
       "</table>\n",
       "</div>"
      ],
      "text/plain": [
       "    Latitude  Longitude       Neighborhood    City State      County  \\\n",
       "0  39.747656 -84.245002  Arlington Heights  Dayton    OH  Montgomery   \n",
       "1  39.709226 -84.063269        Beavercreek  Dayton    OH      Greene   \n",
       "2  39.733461 -84.140875            Belmont  Dayton    OH  Montgomery   \n",
       "3  39.759672 -84.151428          Burkhardt  Dayton    OH  Montgomery   \n",
       "4  39.741796 -84.200474           Carillon  Dayton    OH  Montgomery   \n",
       "\n",
       "   Home Value Brewery Coffeeshop  \n",
       "0       30823       0          0  \n",
       "1      217489       0          0  \n",
       "2       87032       3          4  \n",
       "3       61238       1          1  \n",
       "4       31161       1          1  "
      ]
     },
     "execution_count": 311,
     "metadata": {},
     "output_type": "execute_result"
    }
   ],
   "source": [
    "#pd.set_option('display.max_rows', None)\n",
    "Dayton_all = Dayton_data.join(Dayton_merged.set_index('Neighborhood'), on='Neighborhood')\n",
    "Dayton_all =Dayton_all.fillna('0')\n",
    "print(Dayton_all.shape)\n",
    "Dayton_all.head()\n"
   ]
  },
  {
   "cell_type": "markdown",
   "metadata": {},
   "source": [
    "### Add in a \"normalized\" column for home value for the clustering step"
   ]
  },
  {
   "cell_type": "code",
   "execution_count": 312,
   "metadata": {},
   "outputs": [
    {
     "data": {
      "text/html": [
       "<div>\n",
       "<style scoped>\n",
       "    .dataframe tbody tr th:only-of-type {\n",
       "        vertical-align: middle;\n",
       "    }\n",
       "\n",
       "    .dataframe tbody tr th {\n",
       "        vertical-align: top;\n",
       "    }\n",
       "\n",
       "    .dataframe thead th {\n",
       "        text-align: right;\n",
       "    }\n",
       "</style>\n",
       "<table border=\"1\" class=\"dataframe\">\n",
       "  <thead>\n",
       "    <tr style=\"text-align: right;\">\n",
       "      <th></th>\n",
       "      <th>Latitude</th>\n",
       "      <th>Longitude</th>\n",
       "      <th>Neighborhood</th>\n",
       "      <th>City</th>\n",
       "      <th>State</th>\n",
       "      <th>County</th>\n",
       "      <th>Home Value</th>\n",
       "      <th>Brewery</th>\n",
       "      <th>Coffeeshop</th>\n",
       "      <th>HV_Norm</th>\n",
       "    </tr>\n",
       "  </thead>\n",
       "  <tbody>\n",
       "    <tr>\n",
       "      <td>0</td>\n",
       "      <td>39.747656</td>\n",
       "      <td>-84.245002</td>\n",
       "      <td>Arlington Heights</td>\n",
       "      <td>Dayton</td>\n",
       "      <td>OH</td>\n",
       "      <td>Montgomery</td>\n",
       "      <td>30823</td>\n",
       "      <td>0</td>\n",
       "      <td>0</td>\n",
       "      <td>0.30823</td>\n",
       "    </tr>\n",
       "    <tr>\n",
       "      <td>1</td>\n",
       "      <td>39.709226</td>\n",
       "      <td>-84.063269</td>\n",
       "      <td>Beavercreek</td>\n",
       "      <td>Dayton</td>\n",
       "      <td>OH</td>\n",
       "      <td>Greene</td>\n",
       "      <td>217489</td>\n",
       "      <td>0</td>\n",
       "      <td>0</td>\n",
       "      <td>2.17489</td>\n",
       "    </tr>\n",
       "    <tr>\n",
       "      <td>2</td>\n",
       "      <td>39.733461</td>\n",
       "      <td>-84.140875</td>\n",
       "      <td>Belmont</td>\n",
       "      <td>Dayton</td>\n",
       "      <td>OH</td>\n",
       "      <td>Montgomery</td>\n",
       "      <td>87032</td>\n",
       "      <td>3</td>\n",
       "      <td>4</td>\n",
       "      <td>0.87032</td>\n",
       "    </tr>\n",
       "    <tr>\n",
       "      <td>3</td>\n",
       "      <td>39.759672</td>\n",
       "      <td>-84.151428</td>\n",
       "      <td>Burkhardt</td>\n",
       "      <td>Dayton</td>\n",
       "      <td>OH</td>\n",
       "      <td>Montgomery</td>\n",
       "      <td>61238</td>\n",
       "      <td>1</td>\n",
       "      <td>1</td>\n",
       "      <td>0.61238</td>\n",
       "    </tr>\n",
       "    <tr>\n",
       "      <td>4</td>\n",
       "      <td>39.741796</td>\n",
       "      <td>-84.200474</td>\n",
       "      <td>Carillon</td>\n",
       "      <td>Dayton</td>\n",
       "      <td>OH</td>\n",
       "      <td>Montgomery</td>\n",
       "      <td>31161</td>\n",
       "      <td>1</td>\n",
       "      <td>1</td>\n",
       "      <td>0.31161</td>\n",
       "    </tr>\n",
       "  </tbody>\n",
       "</table>\n",
       "</div>"
      ],
      "text/plain": [
       "    Latitude  Longitude       Neighborhood    City State      County  \\\n",
       "0  39.747656 -84.245002  Arlington Heights  Dayton    OH  Montgomery   \n",
       "1  39.709226 -84.063269        Beavercreek  Dayton    OH      Greene   \n",
       "2  39.733461 -84.140875            Belmont  Dayton    OH  Montgomery   \n",
       "3  39.759672 -84.151428          Burkhardt  Dayton    OH  Montgomery   \n",
       "4  39.741796 -84.200474           Carillon  Dayton    OH  Montgomery   \n",
       "\n",
       "   Home Value Brewery Coffeeshop  HV_Norm  \n",
       "0       30823       0          0  0.30823  \n",
       "1      217489       0          0  2.17489  \n",
       "2       87032       3          4  0.87032  \n",
       "3       61238       1          1  0.61238  \n",
       "4       31161       1          1  0.31161  "
      ]
     },
     "execution_count": 312,
     "metadata": {},
     "output_type": "execute_result"
    }
   ],
   "source": [
    "Dayton_all['HV_Norm']=Dayton_all['Home Value']/100000\n",
    "Dayton_all.head()"
   ]
  },
  {
   "cell_type": "markdown",
   "metadata": {},
   "source": [
    "### Now repeat steps for Cincinnati data"
   ]
  },
  {
   "cell_type": "code",
   "execution_count": 313,
   "metadata": {},
   "outputs": [
    {
     "name": "stdout",
     "output_type": "stream",
     "text": [
      "(47, 3)\n"
     ]
    },
    {
     "data": {
      "text/html": [
       "<div>\n",
       "<style scoped>\n",
       "    .dataframe tbody tr th:only-of-type {\n",
       "        vertical-align: middle;\n",
       "    }\n",
       "\n",
       "    .dataframe tbody tr th {\n",
       "        vertical-align: top;\n",
       "    }\n",
       "\n",
       "    .dataframe thead th {\n",
       "        text-align: right;\n",
       "    }\n",
       "</style>\n",
       "<table border=\"1\" class=\"dataframe\">\n",
       "  <thead>\n",
       "    <tr style=\"text-align: right;\">\n",
       "      <th></th>\n",
       "      <th>Neighborhood</th>\n",
       "      <th>Brewery</th>\n",
       "      <th>Coffeeshop</th>\n",
       "    </tr>\n",
       "  </thead>\n",
       "  <tbody>\n",
       "    <tr>\n",
       "      <td>0</td>\n",
       "      <td>Amberley</td>\n",
       "      <td>2</td>\n",
       "      <td>0</td>\n",
       "    </tr>\n",
       "    <tr>\n",
       "      <td>1</td>\n",
       "      <td>Bridgetown North</td>\n",
       "      <td>3</td>\n",
       "      <td>0</td>\n",
       "    </tr>\n",
       "    <tr>\n",
       "      <td>2</td>\n",
       "      <td>CUF</td>\n",
       "      <td>8</td>\n",
       "      <td>3</td>\n",
       "    </tr>\n",
       "    <tr>\n",
       "      <td>3</td>\n",
       "      <td>California</td>\n",
       "      <td>1</td>\n",
       "      <td>0</td>\n",
       "    </tr>\n",
       "    <tr>\n",
       "      <td>4</td>\n",
       "      <td>Camp Washington</td>\n",
       "      <td>2</td>\n",
       "      <td>2</td>\n",
       "    </tr>\n",
       "  </tbody>\n",
       "</table>\n",
       "</div>"
      ],
      "text/plain": [
       "       Neighborhood  Brewery  Coffeeshop\n",
       "0          Amberley        2           0\n",
       "1  Bridgetown North        3           0\n",
       "2               CUF        8           3\n",
       "3        California        1           0\n",
       "4   Camp Washington        2           2"
      ]
     },
     "execution_count": 313,
     "metadata": {},
     "output_type": "execute_result"
    }
   ],
   "source": [
    "Cincinnati_Brew2=Cincinnati_Brew[['Brewery']]\n",
    "Cincinnati_Brew2 = Cincinnati_Brew2.reset_index()\n",
    "\n",
    "Cincinnati_Coffee2=Cincinnati_Coffee[['Coffeeshop']]\n",
    "Cincinnati_Coffee2 = Cincinnati_Coffee2.reset_index()\n",
    "\n",
    "Cincinnati_merged = Cincinnati_Brew2.join(Cincinnati_Coffee2.set_index('Neighborhood'), on='Neighborhood')\n",
    "Cincinnati_merged =Cincinnati_merged.fillna(0)\n",
    "Cincinnati_merged =Cincinnati_merged.astype({'Coffeeshop': 'int64'})\n",
    "print(Cincinnati_merged.shape)\n",
    "Cincinnati_merged.head()"
   ]
  },
  {
   "cell_type": "code",
   "execution_count": 314,
   "metadata": {},
   "outputs": [
    {
     "name": "stdout",
     "output_type": "stream",
     "text": [
      "(62, 9)\n"
     ]
    },
    {
     "data": {
      "text/html": [
       "<div>\n",
       "<style scoped>\n",
       "    .dataframe tbody tr th:only-of-type {\n",
       "        vertical-align: middle;\n",
       "    }\n",
       "\n",
       "    .dataframe tbody tr th {\n",
       "        vertical-align: top;\n",
       "    }\n",
       "\n",
       "    .dataframe thead th {\n",
       "        text-align: right;\n",
       "    }\n",
       "</style>\n",
       "<table border=\"1\" class=\"dataframe\">\n",
       "  <thead>\n",
       "    <tr style=\"text-align: right;\">\n",
       "      <th></th>\n",
       "      <th>Neighborhood</th>\n",
       "      <th>Latitude</th>\n",
       "      <th>Longitude</th>\n",
       "      <th>City</th>\n",
       "      <th>State</th>\n",
       "      <th>County</th>\n",
       "      <th>House Value</th>\n",
       "      <th>Brewery</th>\n",
       "      <th>Coffeeshop</th>\n",
       "    </tr>\n",
       "  </thead>\n",
       "  <tbody>\n",
       "    <tr>\n",
       "      <td>0</td>\n",
       "      <td>Avondale</td>\n",
       "      <td>39.144963</td>\n",
       "      <td>-84.497811</td>\n",
       "      <td>Cincinnati</td>\n",
       "      <td>OH</td>\n",
       "      <td>Hamilton</td>\n",
       "      <td>81719</td>\n",
       "      <td>0</td>\n",
       "      <td>0</td>\n",
       "    </tr>\n",
       "    <tr>\n",
       "      <td>1</td>\n",
       "      <td>Bond Hill</td>\n",
       "      <td>39.177785</td>\n",
       "      <td>-84.477659</td>\n",
       "      <td>Cincinnati</td>\n",
       "      <td>OH</td>\n",
       "      <td>Hamilton</td>\n",
       "      <td>111614</td>\n",
       "      <td>0</td>\n",
       "      <td>0</td>\n",
       "    </tr>\n",
       "    <tr>\n",
       "      <td>2</td>\n",
       "      <td>California</td>\n",
       "      <td>39.065338</td>\n",
       "      <td>-84.419893</td>\n",
       "      <td>Cincinnati</td>\n",
       "      <td>OH</td>\n",
       "      <td>Hamilton</td>\n",
       "      <td>128577</td>\n",
       "      <td>1</td>\n",
       "      <td>0</td>\n",
       "    </tr>\n",
       "    <tr>\n",
       "      <td>3</td>\n",
       "      <td>Camp Washington</td>\n",
       "      <td>39.137950</td>\n",
       "      <td>-84.537609</td>\n",
       "      <td>Cincinnati</td>\n",
       "      <td>OH</td>\n",
       "      <td>Hamilton</td>\n",
       "      <td>58310</td>\n",
       "      <td>2</td>\n",
       "      <td>2</td>\n",
       "    </tr>\n",
       "    <tr>\n",
       "      <td>4</td>\n",
       "      <td>Carthage</td>\n",
       "      <td>39.195869</td>\n",
       "      <td>-84.485014</td>\n",
       "      <td>Cincinnati</td>\n",
       "      <td>OH</td>\n",
       "      <td>Hamilton</td>\n",
       "      <td>68406</td>\n",
       "      <td>0</td>\n",
       "      <td>0</td>\n",
       "    </tr>\n",
       "  </tbody>\n",
       "</table>\n",
       "</div>"
      ],
      "text/plain": [
       "      Neighborhood   Latitude  Longitude        City State    County  \\\n",
       "0         Avondale  39.144963 -84.497811  Cincinnati    OH  Hamilton   \n",
       "1        Bond Hill  39.177785 -84.477659  Cincinnati    OH  Hamilton   \n",
       "2       California  39.065338 -84.419893  Cincinnati    OH  Hamilton   \n",
       "3  Camp Washington  39.137950 -84.537609  Cincinnati    OH  Hamilton   \n",
       "4         Carthage  39.195869 -84.485014  Cincinnati    OH  Hamilton   \n",
       "\n",
       "   House Value Brewery Coffeeshop  \n",
       "0        81719       0          0  \n",
       "1       111614       0          0  \n",
       "2       128577       1          0  \n",
       "3        58310       2          2  \n",
       "4        68406       0          0  "
      ]
     },
     "execution_count": 314,
     "metadata": {},
     "output_type": "execute_result"
    }
   ],
   "source": [
    "pd.set_option('display.max_rows', None)\n",
    "Cincinnati_all = Cincinnati_data.join(Cincinnati_merged.set_index('Neighborhood'), on='Neighborhood')\n",
    "Cincinnati_all =Cincinnati_all.fillna('0')\n",
    "print(Cincinnati_all.shape)\n",
    "Cincinnati_all.head()"
   ]
  },
  {
   "cell_type": "code",
   "execution_count": 318,
   "metadata": {},
   "outputs": [
    {
     "data": {
      "text/html": [
       "<div>\n",
       "<style scoped>\n",
       "    .dataframe tbody tr th:only-of-type {\n",
       "        vertical-align: middle;\n",
       "    }\n",
       "\n",
       "    .dataframe tbody tr th {\n",
       "        vertical-align: top;\n",
       "    }\n",
       "\n",
       "    .dataframe thead th {\n",
       "        text-align: right;\n",
       "    }\n",
       "</style>\n",
       "<table border=\"1\" class=\"dataframe\">\n",
       "  <thead>\n",
       "    <tr style=\"text-align: right;\">\n",
       "      <th></th>\n",
       "      <th>Neighborhood</th>\n",
       "      <th>Latitude</th>\n",
       "      <th>Longitude</th>\n",
       "      <th>City</th>\n",
       "      <th>State</th>\n",
       "      <th>County</th>\n",
       "      <th>Home Value</th>\n",
       "      <th>Brewery</th>\n",
       "      <th>Coffeeshop</th>\n",
       "      <th>HV_Norm</th>\n",
       "    </tr>\n",
       "  </thead>\n",
       "  <tbody>\n",
       "    <tr>\n",
       "      <td>0</td>\n",
       "      <td>Avondale</td>\n",
       "      <td>39.144963</td>\n",
       "      <td>-84.497811</td>\n",
       "      <td>Cincinnati</td>\n",
       "      <td>OH</td>\n",
       "      <td>Hamilton</td>\n",
       "      <td>81719</td>\n",
       "      <td>0</td>\n",
       "      <td>0</td>\n",
       "      <td>0.81719</td>\n",
       "    </tr>\n",
       "    <tr>\n",
       "      <td>1</td>\n",
       "      <td>Bond Hill</td>\n",
       "      <td>39.177785</td>\n",
       "      <td>-84.477659</td>\n",
       "      <td>Cincinnati</td>\n",
       "      <td>OH</td>\n",
       "      <td>Hamilton</td>\n",
       "      <td>111614</td>\n",
       "      <td>0</td>\n",
       "      <td>0</td>\n",
       "      <td>1.11614</td>\n",
       "    </tr>\n",
       "    <tr>\n",
       "      <td>2</td>\n",
       "      <td>California</td>\n",
       "      <td>39.065338</td>\n",
       "      <td>-84.419893</td>\n",
       "      <td>Cincinnati</td>\n",
       "      <td>OH</td>\n",
       "      <td>Hamilton</td>\n",
       "      <td>128577</td>\n",
       "      <td>1</td>\n",
       "      <td>0</td>\n",
       "      <td>1.28577</td>\n",
       "    </tr>\n",
       "    <tr>\n",
       "      <td>3</td>\n",
       "      <td>Camp Washington</td>\n",
       "      <td>39.137950</td>\n",
       "      <td>-84.537609</td>\n",
       "      <td>Cincinnati</td>\n",
       "      <td>OH</td>\n",
       "      <td>Hamilton</td>\n",
       "      <td>58310</td>\n",
       "      <td>2</td>\n",
       "      <td>2</td>\n",
       "      <td>0.58310</td>\n",
       "    </tr>\n",
       "    <tr>\n",
       "      <td>4</td>\n",
       "      <td>Carthage</td>\n",
       "      <td>39.195869</td>\n",
       "      <td>-84.485014</td>\n",
       "      <td>Cincinnati</td>\n",
       "      <td>OH</td>\n",
       "      <td>Hamilton</td>\n",
       "      <td>68406</td>\n",
       "      <td>0</td>\n",
       "      <td>0</td>\n",
       "      <td>0.68406</td>\n",
       "    </tr>\n",
       "  </tbody>\n",
       "</table>\n",
       "</div>"
      ],
      "text/plain": [
       "      Neighborhood   Latitude  Longitude        City State    County  \\\n",
       "0         Avondale  39.144963 -84.497811  Cincinnati    OH  Hamilton   \n",
       "1        Bond Hill  39.177785 -84.477659  Cincinnati    OH  Hamilton   \n",
       "2       California  39.065338 -84.419893  Cincinnati    OH  Hamilton   \n",
       "3  Camp Washington  39.137950 -84.537609  Cincinnati    OH  Hamilton   \n",
       "4         Carthage  39.195869 -84.485014  Cincinnati    OH  Hamilton   \n",
       "\n",
       "   Home Value Brewery Coffeeshop  HV_Norm  \n",
       "0       81719       0          0  0.81719  \n",
       "1      111614       0          0  1.11614  \n",
       "2      128577       1          0  1.28577  \n",
       "3       58310       2          2  0.58310  \n",
       "4       68406       0          0  0.68406  "
      ]
     },
     "execution_count": 318,
     "metadata": {},
     "output_type": "execute_result"
    }
   ],
   "source": [
    "Cincinnati_all['HV_Norm']=Cincinnati_all['Home Value']/100000\n",
    "Cincinnati_all=Cincinnati_all.rename(columns={\"House Value\": \"Home Value\"})\n",
    "Cincinnati_all.head()"
   ]
  },
  {
   "cell_type": "markdown",
   "metadata": {},
   "source": [
    "## Exploratory Data Analysis"
   ]
  },
  {
   "cell_type": "code",
   "execution_count": 320,
   "metadata": {},
   "outputs": [
    {
     "name": "stdout",
     "output_type": "stream",
     "text": [
      "(62, 10)\n",
      "(62, 10)\n",
      "(124, 10)\n"
     ]
    }
   ],
   "source": [
    "print(Dayton_all.shape)\n",
    "print(Cincinnati_all.shape)\n",
    "Merged=Dayton_all.append(Cincinnati_all)\n",
    "print(Merged.shape) "
   ]
  },
  {
   "cell_type": "code",
   "execution_count": 321,
   "metadata": {},
   "outputs": [
    {
     "name": "stdout",
     "output_type": "stream",
     "text": [
      "Matplotlib version:  3.1.1\n"
     ]
    }
   ],
   "source": [
    "mpl.style.use('ggplot') # optional: for ggplot-like style\n",
    "\n",
    "# check for latest version of Matplotlib\n",
    "print ('Matplotlib version: ', mpl.__version__) # >= 2.0.0"
   ]
  },
  {
   "cell_type": "markdown",
   "metadata": {},
   "source": [
    "### Plot histograms for the Home Value Column for Dayton and Cincinnati samples for comparison\n",
    "#### The resulting plots show clear differences in the real estate values between Cincinnati and Dayton"
   ]
  },
  {
   "cell_type": "code",
   "execution_count": 322,
   "metadata": {},
   "outputs": [
    {
     "data": {
      "image/png": "[encoded data removed]",
      "text/plain": [
       "<Figure size 1080x576 with 1 Axes>"
      ]
     },
     "metadata": {},
     "output_type": "display_data"
    }
   ],
   "source": [
    "#ax = Merged.plot.bar(x='City', y='Home Value', rot=0)\n",
    "#plt.show()\n",
    "count, bin_edges = np.histogram(Dayton_all['Home Value'])\n",
    "\n",
    "\n",
    "ax = Dayton_all['Home Value'].plot(kind='hist', figsize=(15, 8), xticks=bin_edges)\n",
    "\n",
    "\n",
    "plt.title('Histogram of Dayton Home Values', fontsize=16)\n",
    "plt.ylabel('Count of Neighborhoods', fontsize=14)\n",
    "plt.xlabel('Neighborhood Home Value Index', fontsize=14)\n",
    "\n",
    "#ax.set_title('Percentage of Respondants interested in Data Science Areas', fontsize=16)\n",
    "ax.legend(prop=dict(size=14))\n",
    "\n",
    "ax.spines['top'].set_visible(False)\n",
    "ax.spines['right'].set_visible(False)\n",
    "ax.spines['left'].set_visible(False)\n",
    "#ax.yaxis.set_visible(False)\n",
    "\n",
    "\n",
    "plt.show()"
   ]
  },
  {
   "cell_type": "code",
   "execution_count": 323,
   "metadata": {},
   "outputs": [
    {
     "data": {
      "image/png": "[encoded data removed]",
      "text/plain": [
       "<Figure size 1080x576 with 1 Axes>"
      ]
     },
     "metadata": {},
     "output_type": "display_data"
    }
   ],
   "source": [
    "count, bin_edges = np.histogram(Cincinnati_all['Home Value'])\n",
    "\n",
    "Cincinnati_all['Home Value'].plot(kind='hist', figsize=(15, 8), xticks=bin_edges)\n",
    "\n",
    "plt.title('Histogram of Cincinnati Home Values')\n",
    "plt.ylabel('Count of Neighborhoods')\n",
    "plt.xlabel('Neighborhood Home Value Index')\n",
    "\n",
    "plt.show()"
   ]
  },
  {
   "cell_type": "markdown",
   "metadata": {},
   "source": [
    "## Part 2: Clustering Analysis with kmeans"
   ]
  },
  {
   "cell_type": "markdown",
   "metadata": {},
   "source": [
    "..."
   ]
  },
  {
   "cell_type": "markdown",
   "metadata": {},
   "source": [
    "#### Now that we have properly cleaned and arranged data and we got our initial impressions of it through EDA, it is time to explore how these neighborhoods might cluster together."
   ]
  },
  {
   "cell_type": "markdown",
   "metadata": {},
   "source": [
    "#### The number of clusters needs to be determined, we run the process for 3, 4, and 5 clusters"
   ]
  },
  {
   "cell_type": "code",
   "execution_count": 325,
   "metadata": {},
   "outputs": [
    {
     "data": {
      "text/plain": [
       "array([1, 1, 0, 1, 1, 1, 1, 1, 1, 0])"
      ]
     },
     "execution_count": 325,
     "metadata": {},
     "output_type": "execute_result"
    }
   ],
   "source": [
    "# set number of clusters as 3 \n",
    "kclusters = 3\n",
    "Merged_clustering = Merged.drop({'Neighborhood','City','County','Home Value','Latitude','Longitude','State'}, 1)\n",
    "\n",
    "# run k-means clustering\n",
    "kmeans = KMeans(n_clusters=kclusters, random_state=0).fit(Merged_clustering)\n",
    "\n",
    "# check cluster labels generated for each row in the dataframe\n",
    "kmeans.labels_[0:10] "
   ]
  },
  {
   "cell_type": "code",
   "execution_count": 326,
   "metadata": {},
   "outputs": [
    {
     "data": {
      "text/plain": [
       "array([3, 3, 0, 3, 3, 3, 3, 3, 3, 2])"
      ]
     },
     "execution_count": 326,
     "metadata": {},
     "output_type": "execute_result"
    }
   ],
   "source": [
    "# set number of clusters as 4\n",
    "kclusters2 = 4\n",
    "Merged_clustering2 = Merged.drop({'Neighborhood','City','County','Home Value','Latitude','Longitude','State'}, 1)\n",
    "\n",
    "# run k-means clustering\n",
    "kmeans2 = KMeans(n_clusters=kclusters2, random_state=0).fit(Merged_clustering2)\n",
    "\n",
    "# check cluster labels generated for each row in the dataframe\n",
    "kmeans2.labels_[0:10] "
   ]
  },
  {
   "cell_type": "code",
   "execution_count": 327,
   "metadata": {},
   "outputs": [
    {
     "data": {
      "text/plain": [
       "array([1, 1, 0, 1, 1, 1, 1, 1, 1, 0])"
      ]
     },
     "execution_count": 327,
     "metadata": {},
     "output_type": "execute_result"
    }
   ],
   "source": [
    "# set number of clusters as 5\n",
    "kclusters3 = 5\n",
    "Merged_clustering3 = Merged.drop({'Neighborhood','City','County','Home Value','Latitude','Longitude','State'}, 1)\n",
    "\n",
    "# run k-means clustering\n",
    "kmeans3 = KMeans(n_clusters=kclusters3, random_state=0).fit(Merged_clustering3)\n",
    "\n",
    "# check cluster labels generated for each row in the dataframe\n",
    "kmeans3.labels_[0:10] "
   ]
  },
  {
   "cell_type": "markdown",
   "metadata": {},
   "source": [
    "#### Make a copy of the full data, and merge each cluster itteration into its own copy."
   ]
  },
  {
   "cell_type": "code",
   "execution_count": 331,
   "metadata": {},
   "outputs": [
    {
     "data": {
      "text/html": [
       "<div>\n",
       "<style scoped>\n",
       "    .dataframe tbody tr th:only-of-type {\n",
       "        vertical-align: middle;\n",
       "    }\n",
       "\n",
       "    .dataframe tbody tr th {\n",
       "        vertical-align: top;\n",
       "    }\n",
       "\n",
       "    .dataframe thead th {\n",
       "        text-align: right;\n",
       "    }\n",
       "</style>\n",
       "<table border=\"1\" class=\"dataframe\">\n",
       "  <thead>\n",
       "    <tr style=\"text-align: right;\">\n",
       "      <th></th>\n",
       "      <th>Brewery</th>\n",
       "      <th>City</th>\n",
       "      <th>Coffeeshop</th>\n",
       "      <th>County</th>\n",
       "      <th>HV_Norm</th>\n",
       "      <th>Home Value</th>\n",
       "      <th>Latitude</th>\n",
       "      <th>Longitude</th>\n",
       "      <th>Neighborhood</th>\n",
       "      <th>State</th>\n",
       "    </tr>\n",
       "  </thead>\n",
       "  <tbody>\n",
       "    <tr>\n",
       "      <td>0</td>\n",
       "      <td>0</td>\n",
       "      <td>Dayton</td>\n",
       "      <td>0</td>\n",
       "      <td>Montgomery</td>\n",
       "      <td>0.30823</td>\n",
       "      <td>30823</td>\n",
       "      <td>39.747656</td>\n",
       "      <td>-84.245002</td>\n",
       "      <td>Arlington Heights</td>\n",
       "      <td>OH</td>\n",
       "    </tr>\n",
       "    <tr>\n",
       "      <td>1</td>\n",
       "      <td>0</td>\n",
       "      <td>Dayton</td>\n",
       "      <td>0</td>\n",
       "      <td>Greene</td>\n",
       "      <td>2.17489</td>\n",
       "      <td>217489</td>\n",
       "      <td>39.709226</td>\n",
       "      <td>-84.063269</td>\n",
       "      <td>Beavercreek</td>\n",
       "      <td>OH</td>\n",
       "    </tr>\n",
       "    <tr>\n",
       "      <td>2</td>\n",
       "      <td>3</td>\n",
       "      <td>Dayton</td>\n",
       "      <td>4</td>\n",
       "      <td>Montgomery</td>\n",
       "      <td>0.87032</td>\n",
       "      <td>87032</td>\n",
       "      <td>39.733461</td>\n",
       "      <td>-84.140875</td>\n",
       "      <td>Belmont</td>\n",
       "      <td>OH</td>\n",
       "    </tr>\n",
       "    <tr>\n",
       "      <td>3</td>\n",
       "      <td>1</td>\n",
       "      <td>Dayton</td>\n",
       "      <td>1</td>\n",
       "      <td>Montgomery</td>\n",
       "      <td>0.61238</td>\n",
       "      <td>61238</td>\n",
       "      <td>39.759672</td>\n",
       "      <td>-84.151428</td>\n",
       "      <td>Burkhardt</td>\n",
       "      <td>OH</td>\n",
       "    </tr>\n",
       "    <tr>\n",
       "      <td>4</td>\n",
       "      <td>1</td>\n",
       "      <td>Dayton</td>\n",
       "      <td>1</td>\n",
       "      <td>Montgomery</td>\n",
       "      <td>0.31161</td>\n",
       "      <td>31161</td>\n",
       "      <td>39.741796</td>\n",
       "      <td>-84.200474</td>\n",
       "      <td>Carillon</td>\n",
       "      <td>OH</td>\n",
       "    </tr>\n",
       "  </tbody>\n",
       "</table>\n",
       "</div>"
      ],
      "text/plain": [
       "  Brewery    City Coffeeshop      County  HV_Norm  Home Value   Latitude  \\\n",
       "0       0  Dayton          0  Montgomery  0.30823       30823  39.747656   \n",
       "1       0  Dayton          0      Greene  2.17489      217489  39.709226   \n",
       "2       3  Dayton          4  Montgomery  0.87032       87032  39.733461   \n",
       "3       1  Dayton          1  Montgomery  0.61238       61238  39.759672   \n",
       "4       1  Dayton          1  Montgomery  0.31161       31161  39.741796   \n",
       "\n",
       "   Longitude       Neighborhood State  \n",
       "0 -84.245002  Arlington Heights    OH  \n",
       "1 -84.063269        Beavercreek    OH  \n",
       "2 -84.140875            Belmont    OH  \n",
       "3 -84.151428          Burkhardt    OH  \n",
       "4 -84.200474           Carillon    OH  "
      ]
     },
     "execution_count": 331,
     "metadata": {},
     "output_type": "execute_result"
    }
   ],
   "source": [
    "Merged2=Merged.copy()\n",
    "Merged2 = Merged.drop('Cluster Labels', 1)\n",
    "Merged3=Merged2.copy()\n",
    "Merged3.head()"
   ]
  },
  {
   "cell_type": "code",
   "execution_count": 338,
   "metadata": {},
   "outputs": [
    {
     "data": {
      "text/html": [
       "<div>\n",
       "<style scoped>\n",
       "    .dataframe tbody tr th:only-of-type {\n",
       "        vertical-align: middle;\n",
       "    }\n",
       "\n",
       "    .dataframe tbody tr th {\n",
       "        vertical-align: top;\n",
       "    }\n",
       "\n",
       "    .dataframe thead th {\n",
       "        text-align: right;\n",
       "    }\n",
       "</style>\n",
       "<table border=\"1\" class=\"dataframe\">\n",
       "  <thead>\n",
       "    <tr style=\"text-align: right;\">\n",
       "      <th></th>\n",
       "      <th>Cluster Labels</th>\n",
       "      <th>Brewery</th>\n",
       "      <th>City</th>\n",
       "      <th>Coffeeshop</th>\n",
       "      <th>County</th>\n",
       "      <th>HV_Norm</th>\n",
       "      <th>Home Value</th>\n",
       "      <th>Latitude</th>\n",
       "      <th>Longitude</th>\n",
       "      <th>Neighborhood</th>\n",
       "      <th>State</th>\n",
       "    </tr>\n",
       "  </thead>\n",
       "  <tbody>\n",
       "    <tr>\n",
       "      <td>0</td>\n",
       "      <td>1</td>\n",
       "      <td>0</td>\n",
       "      <td>Dayton</td>\n",
       "      <td>0</td>\n",
       "      <td>Montgomery</td>\n",
       "      <td>0.30823</td>\n",
       "      <td>30823</td>\n",
       "      <td>39.747656</td>\n",
       "      <td>-84.245002</td>\n",
       "      <td>Arlington Heights</td>\n",
       "      <td>OH</td>\n",
       "    </tr>\n",
       "    <tr>\n",
       "      <td>1</td>\n",
       "      <td>1</td>\n",
       "      <td>0</td>\n",
       "      <td>Dayton</td>\n",
       "      <td>0</td>\n",
       "      <td>Greene</td>\n",
       "      <td>2.17489</td>\n",
       "      <td>217489</td>\n",
       "      <td>39.709226</td>\n",
       "      <td>-84.063269</td>\n",
       "      <td>Beavercreek</td>\n",
       "      <td>OH</td>\n",
       "    </tr>\n",
       "    <tr>\n",
       "      <td>2</td>\n",
       "      <td>0</td>\n",
       "      <td>3</td>\n",
       "      <td>Dayton</td>\n",
       "      <td>4</td>\n",
       "      <td>Montgomery</td>\n",
       "      <td>0.87032</td>\n",
       "      <td>87032</td>\n",
       "      <td>39.733461</td>\n",
       "      <td>-84.140875</td>\n",
       "      <td>Belmont</td>\n",
       "      <td>OH</td>\n",
       "    </tr>\n",
       "    <tr>\n",
       "      <td>3</td>\n",
       "      <td>1</td>\n",
       "      <td>1</td>\n",
       "      <td>Dayton</td>\n",
       "      <td>1</td>\n",
       "      <td>Montgomery</td>\n",
       "      <td>0.61238</td>\n",
       "      <td>61238</td>\n",
       "      <td>39.759672</td>\n",
       "      <td>-84.151428</td>\n",
       "      <td>Burkhardt</td>\n",
       "      <td>OH</td>\n",
       "    </tr>\n",
       "    <tr>\n",
       "      <td>4</td>\n",
       "      <td>1</td>\n",
       "      <td>1</td>\n",
       "      <td>Dayton</td>\n",
       "      <td>1</td>\n",
       "      <td>Montgomery</td>\n",
       "      <td>0.31161</td>\n",
       "      <td>31161</td>\n",
       "      <td>39.741796</td>\n",
       "      <td>-84.200474</td>\n",
       "      <td>Carillon</td>\n",
       "      <td>OH</td>\n",
       "    </tr>\n",
       "  </tbody>\n",
       "</table>\n",
       "</div>"
      ],
      "text/plain": [
       "   Cluster Labels Brewery    City Coffeeshop      County  HV_Norm  Home Value  \\\n",
       "0               1       0  Dayton          0  Montgomery  0.30823       30823   \n",
       "1               1       0  Dayton          0      Greene  2.17489      217489   \n",
       "2               0       3  Dayton          4  Montgomery  0.87032       87032   \n",
       "3               1       1  Dayton          1  Montgomery  0.61238       61238   \n",
       "4               1       1  Dayton          1  Montgomery  0.31161       31161   \n",
       "\n",
       "    Latitude  Longitude       Neighborhood State  \n",
       "0  39.747656 -84.245002  Arlington Heights    OH  \n",
       "1  39.709226 -84.063269        Beavercreek    OH  \n",
       "2  39.733461 -84.140875            Belmont    OH  \n",
       "3  39.759672 -84.151428          Burkhardt    OH  \n",
       "4  39.741796 -84.200474           Carillon    OH  "
      ]
     },
     "execution_count": 338,
     "metadata": {},
     "output_type": "execute_result"
    }
   ],
   "source": [
    "# add clustering labels\n",
    "Merged.insert(0, 'Cluster Labels', kmeans.labels_)\n",
    "Merged\n",
    "Merged2.insert(0, 'Cluster Labels', kmeans2.labels_)\n",
    "Merged2\n",
    "Merged3.insert(0, 'Cluster Labels', kmeans3.labels_)\n",
    "Merged3.head()"
   ]
  },
  {
   "cell_type": "markdown",
   "metadata": {},
   "source": [
    "# View the cluster results"
   ]
  },
  {
   "cell_type": "markdown",
   "metadata": {},
   "source": [
    "### Folium maps were used to view the results of the kmeans clustering. The code was run for each number of cluster values and the results explored. The k-cluster level = 5 provided the best results."
   ]
  },
  {
   "cell_type": "markdown",
   "metadata": {},
   "source": [
    "#### First, we get the coordinates for Middletown Ohio, so our map is centered between Cincinnati and Dayton"
   ]
  },
  {
   "cell_type": "code",
   "execution_count": 332,
   "metadata": {},
   "outputs": [
    {
     "name": "stdout",
     "output_type": "stream",
     "text": [
      "The geograpical coordinate of Middletown, OH are 39.5150576, -84.3982763.\n"
     ]
    }
   ],
   "source": [
    "address = 'middletown, OH'\n",
    "\n",
    "geolocator = Nominatim(user_agent=\"OH_explorer\")\n",
    "location = geolocator.geocode(address)\n",
    "latitude = location.latitude\n",
    "longitude = location.longitude\n",
    "print('The geograpical coordinate of Middletown, OH are {}, {}.'.format(latitude, longitude))"
   ]
  },
  {
   "cell_type": "code",
   "execution_count": 339,
   "metadata": {},
   "outputs": [
    {
     "data": {
      "text/html": [
       "<div style=\"width:100%;\"><div style=\"position:relative;width:100%;height:0;padding-bottom:60%;\"><iframe src=\"about:blank\" style=\"position:absolute;width:100%;height:100%;left:0;top:0;border:none !important;\" data-html=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 onload=\"this.contentDocument.open();this.contentDocument.write(atob(this.getAttribute('data-html')));this.contentDocument.close();\" allowfullscreen webkitallowfullscreen mozallowfullscreen></iframe></div></div>"
      ],
      "text/plain": [
       "<folium.folium.Map at 0x10e59050>"
      ]
     },
     "execution_count": 339,
     "metadata": {},
     "output_type": "execute_result"
    }
   ],
   "source": [
    "# create map for the \"5 Clusters\" case\n",
    "map_clusters = folium.Map(location=[latitude, longitude], zoom_start=9)\n",
    "\n",
    "# set color scheme for the clusters\n",
    "x = np.arange(kclusters3)\n",
    "ys = [i + x + (i*x)**2 for i in range(kclusters3)]\n",
    "colors_array = cm.rainbow(np.linspace(0, 1, len(ys)))\n",
    "rainbow = [colors.rgb2hex(i) for i in colors_array]\n",
    "\n",
    "# add markers to the map\n",
    "markers_colors = []\n",
    "for lat, lon, poi, cluster in zip(Merged3['Latitude'], Merged3['Longitude'], Merged3['Neighborhood'], Merged3['Cluster Labels']):\n",
    "    label = folium.Popup(str(poi) + ' Cluster ' + str(cluster), parse_html=True)\n",
    "    folium.CircleMarker(\n",
    "        [lat, lon],\n",
    "        radius=5,\n",
    "        popup=label,\n",
    "        color=rainbow[int(cluster-1)],\n",
    "        fill=True,\n",
    "        fill_color=rainbow[int(cluster-1)],\n",
    "        fill_opacity=0.7).add_to(map_clusters)\n",
    "       \n",
    "map_clusters"
   ]
  },
  {
   "cell_type": "markdown",
   "metadata": {},
   "source": [
    "### Now we will look at each cluster in more detail, using the df.describe() method to see what the clusters have in common."
   ]
  },
  {
   "cell_type": "code",
   "execution_count": 340,
   "metadata": {},
   "outputs": [],
   "source": [
    "Merged3 =Merged3.astype({'Brewery': 'int64'})\n",
    "Merged3 =Merged3.astype({'Coffeeshop': 'int64'})\n",
    "Merged3['Sum']=Merged3['Brewery']+Merged3['Coffeeshop']"
   ]
  },
  {
   "cell_type": "markdown",
   "metadata": {},
   "source": [
    "#### Isolate off copies of each cluster for more comparrisons"
   ]
  },
  {
   "cell_type": "code",
   "execution_count": 284,
   "metadata": {},
   "outputs": [],
   "source": [
    "M0=Merged3.loc[Merged3['Cluster Labels'] == 0]\n",
    "M1=Merged3.loc[Merged3['Cluster Labels'] == 1]\n",
    "M2=Merged3.loc[Merged3['Cluster Labels'] == 2]\n",
    "M3=Merged3.loc[Merged3['Cluster Labels'] == 3]\n",
    "M4=Merged3.loc[Merged3['Cluster Labels'] == 4]"
   ]
  },
  {
   "cell_type": "code",
   "execution_count": 285,
   "metadata": {},
   "outputs": [
    {
     "data": {
      "text/html": [
       "<div>\n",
       "<style scoped>\n",
       "    .dataframe tbody tr th:only-of-type {\n",
       "        vertical-align: middle;\n",
       "    }\n",
       "\n",
       "    .dataframe tbody tr th {\n",
       "        vertical-align: top;\n",
       "    }\n",
       "\n",
       "    .dataframe thead th {\n",
       "        text-align: right;\n",
       "    }\n",
       "</style>\n",
       "<table border=\"1\" class=\"dataframe\">\n",
       "  <thead>\n",
       "    <tr style=\"text-align: right;\">\n",
       "      <th></th>\n",
       "      <th>Cluster Labels</th>\n",
       "      <th>Brewery</th>\n",
       "      <th>Coffeeshop</th>\n",
       "      <th>HV_Norm</th>\n",
       "      <th>Home Value</th>\n",
       "      <th>Latitude</th>\n",
       "      <th>Longitude</th>\n",
       "      <th>Sum</th>\n",
       "    </tr>\n",
       "  </thead>\n",
       "  <tbody>\n",
       "    <tr>\n",
       "      <td>count</td>\n",
       "      <td>72.0</td>\n",
       "      <td>72.000000</td>\n",
       "      <td>72.000000</td>\n",
       "      <td>72.000000</td>\n",
       "      <td>72.000000</td>\n",
       "      <td>72.000000</td>\n",
       "      <td>72.000000</td>\n",
       "      <td>72.000000</td>\n",
       "    </tr>\n",
       "    <tr>\n",
       "      <td>mean</td>\n",
       "      <td>0.0</td>\n",
       "      <td>0.361111</td>\n",
       "      <td>0.083333</td>\n",
       "      <td>0.908646</td>\n",
       "      <td>90864.555556</td>\n",
       "      <td>39.550048</td>\n",
       "      <td>-84.316274</td>\n",
       "      <td>0.444444</td>\n",
       "    </tr>\n",
       "    <tr>\n",
       "      <td>std</td>\n",
       "      <td>0.0</td>\n",
       "      <td>0.483693</td>\n",
       "      <td>0.325014</td>\n",
       "      <td>0.636138</td>\n",
       "      <td>63613.762767</td>\n",
       "      <td>0.299277</td>\n",
       "      <td>0.169227</td>\n",
       "      <td>0.669010</td>\n",
       "    </tr>\n",
       "    <tr>\n",
       "      <td>min</td>\n",
       "      <td>0.0</td>\n",
       "      <td>0.000000</td>\n",
       "      <td>0.000000</td>\n",
       "      <td>0.244870</td>\n",
       "      <td>24487.000000</td>\n",
       "      <td>39.065338</td>\n",
       "      <td>-84.687136</td>\n",
       "      <td>0.000000</td>\n",
       "    </tr>\n",
       "    <tr>\n",
       "      <td>25%</td>\n",
       "      <td>0.0</td>\n",
       "      <td>0.000000</td>\n",
       "      <td>0.000000</td>\n",
       "      <td>0.536800</td>\n",
       "      <td>53680.000000</td>\n",
       "      <td>39.184958</td>\n",
       "      <td>-84.479497</td>\n",
       "      <td>0.000000</td>\n",
       "    </tr>\n",
       "    <tr>\n",
       "      <td>50%</td>\n",
       "      <td>0.0</td>\n",
       "      <td>0.000000</td>\n",
       "      <td>0.000000</td>\n",
       "      <td>0.680560</td>\n",
       "      <td>68056.000000</td>\n",
       "      <td>39.743145</td>\n",
       "      <td>-84.241709</td>\n",
       "      <td>0.000000</td>\n",
       "    </tr>\n",
       "    <tr>\n",
       "      <td>75%</td>\n",
       "      <td>0.0</td>\n",
       "      <td>1.000000</td>\n",
       "      <td>0.000000</td>\n",
       "      <td>1.188550</td>\n",
       "      <td>118855.000000</td>\n",
       "      <td>39.774734</td>\n",
       "      <td>-84.209435</td>\n",
       "      <td>1.000000</td>\n",
       "    </tr>\n",
       "    <tr>\n",
       "      <td>max</td>\n",
       "      <td>0.0</td>\n",
       "      <td>1.000000</td>\n",
       "      <td>2.000000</td>\n",
       "      <td>3.909700</td>\n",
       "      <td>390970.000000</td>\n",
       "      <td>39.824165</td>\n",
       "      <td>-84.019379</td>\n",
       "      <td>3.000000</td>\n",
       "    </tr>\n",
       "  </tbody>\n",
       "</table>\n",
       "</div>"
      ],
      "text/plain": [
       "       Cluster Labels    Brewery  Coffeeshop    HV_Norm     Home Value  \\\n",
       "count            72.0  72.000000   72.000000  72.000000      72.000000   \n",
       "mean              0.0   0.361111    0.083333   0.908646   90864.555556   \n",
       "std               0.0   0.483693    0.325014   0.636138   63613.762767   \n",
       "min               0.0   0.000000    0.000000   0.244870   24487.000000   \n",
       "25%               0.0   0.000000    0.000000   0.536800   53680.000000   \n",
       "50%               0.0   0.000000    0.000000   0.680560   68056.000000   \n",
       "75%               0.0   1.000000    0.000000   1.188550  118855.000000   \n",
       "max               0.0   1.000000    2.000000   3.909700  390970.000000   \n",
       "\n",
       "        Latitude  Longitude        Sum  \n",
       "count  72.000000  72.000000  72.000000  \n",
       "mean   39.550048 -84.316274   0.444444  \n",
       "std     0.299277   0.169227   0.669010  \n",
       "min    39.065338 -84.687136   0.000000  \n",
       "25%    39.184958 -84.479497   0.000000  \n",
       "50%    39.743145 -84.241709   0.000000  \n",
       "75%    39.774734 -84.209435   1.000000  \n",
       "max    39.824165 -84.019379   3.000000  "
      ]
     },
     "execution_count": 285,
     "metadata": {},
     "output_type": "execute_result"
    }
   ],
   "source": [
    "M0.describe()   # Cluster 0"
   ]
  },
  {
   "cell_type": "code",
   "execution_count": 286,
   "metadata": {},
   "outputs": [
    {
     "data": {
      "text/html": [
       "<div>\n",
       "<style scoped>\n",
       "    .dataframe tbody tr th:only-of-type {\n",
       "        vertical-align: middle;\n",
       "    }\n",
       "\n",
       "    .dataframe tbody tr th {\n",
       "        vertical-align: top;\n",
       "    }\n",
       "\n",
       "    .dataframe thead th {\n",
       "        text-align: right;\n",
       "    }\n",
       "</style>\n",
       "<table border=\"1\" class=\"dataframe\">\n",
       "  <thead>\n",
       "    <tr style=\"text-align: right;\">\n",
       "      <th></th>\n",
       "      <th>Cluster Labels</th>\n",
       "      <th>Brewery</th>\n",
       "      <th>Coffeeshop</th>\n",
       "      <th>HV_Norm</th>\n",
       "      <th>Home Value</th>\n",
       "      <th>Latitude</th>\n",
       "      <th>Longitude</th>\n",
       "      <th>Sum</th>\n",
       "    </tr>\n",
       "  </thead>\n",
       "  <tbody>\n",
       "    <tr>\n",
       "      <td>count</td>\n",
       "      <td>3.0</td>\n",
       "      <td>3.000000</td>\n",
       "      <td>3.000000</td>\n",
       "      <td>3.000000</td>\n",
       "      <td>3.000000</td>\n",
       "      <td>3.000000</td>\n",
       "      <td>3.000000</td>\n",
       "      <td>3.0</td>\n",
       "    </tr>\n",
       "    <tr>\n",
       "      <td>mean</td>\n",
       "      <td>1.0</td>\n",
       "      <td>11.333333</td>\n",
       "      <td>14.666667</td>\n",
       "      <td>3.039567</td>\n",
       "      <td>303956.666667</td>\n",
       "      <td>39.107582</td>\n",
       "      <td>-84.513659</td>\n",
       "      <td>26.0</td>\n",
       "    </tr>\n",
       "    <tr>\n",
       "      <td>std</td>\n",
       "      <td>0.0</td>\n",
       "      <td>1.154701</td>\n",
       "      <td>2.081666</td>\n",
       "      <td>0.436028</td>\n",
       "      <td>43602.829430</td>\n",
       "      <td>0.007161</td>\n",
       "      <td>0.004518</td>\n",
       "      <td>1.0</td>\n",
       "    </tr>\n",
       "    <tr>\n",
       "      <td>min</td>\n",
       "      <td>1.0</td>\n",
       "      <td>10.000000</td>\n",
       "      <td>13.000000</td>\n",
       "      <td>2.576910</td>\n",
       "      <td>257691.000000</td>\n",
       "      <td>39.099435</td>\n",
       "      <td>-84.516573</td>\n",
       "      <td>25.0</td>\n",
       "    </tr>\n",
       "    <tr>\n",
       "      <td>25%</td>\n",
       "      <td>1.0</td>\n",
       "      <td>11.000000</td>\n",
       "      <td>13.500000</td>\n",
       "      <td>2.837905</td>\n",
       "      <td>283790.500000</td>\n",
       "      <td>39.104931</td>\n",
       "      <td>-84.516261</td>\n",
       "      <td>25.5</td>\n",
       "    </tr>\n",
       "    <tr>\n",
       "      <td>50%</td>\n",
       "      <td>1.0</td>\n",
       "      <td>12.000000</td>\n",
       "      <td>14.000000</td>\n",
       "      <td>3.098900</td>\n",
       "      <td>309890.000000</td>\n",
       "      <td>39.110427</td>\n",
       "      <td>-84.515948</td>\n",
       "      <td>26.0</td>\n",
       "    </tr>\n",
       "    <tr>\n",
       "      <td>75%</td>\n",
       "      <td>1.0</td>\n",
       "      <td>12.000000</td>\n",
       "      <td>15.500000</td>\n",
       "      <td>3.270895</td>\n",
       "      <td>327089.500000</td>\n",
       "      <td>39.111655</td>\n",
       "      <td>-84.512201</td>\n",
       "      <td>26.5</td>\n",
       "    </tr>\n",
       "    <tr>\n",
       "      <td>max</td>\n",
       "      <td>1.0</td>\n",
       "      <td>12.000000</td>\n",
       "      <td>17.000000</td>\n",
       "      <td>3.442890</td>\n",
       "      <td>344289.000000</td>\n",
       "      <td>39.112883</td>\n",
       "      <td>-84.508455</td>\n",
       "      <td>27.0</td>\n",
       "    </tr>\n",
       "  </tbody>\n",
       "</table>\n",
       "</div>"
      ],
      "text/plain": [
       "       Cluster Labels    Brewery  Coffeeshop   HV_Norm     Home Value  \\\n",
       "count             3.0   3.000000    3.000000  3.000000       3.000000   \n",
       "mean              1.0  11.333333   14.666667  3.039567  303956.666667   \n",
       "std               0.0   1.154701    2.081666  0.436028   43602.829430   \n",
       "min               1.0  10.000000   13.000000  2.576910  257691.000000   \n",
       "25%               1.0  11.000000   13.500000  2.837905  283790.500000   \n",
       "50%               1.0  12.000000   14.000000  3.098900  309890.000000   \n",
       "75%               1.0  12.000000   15.500000  3.270895  327089.500000   \n",
       "max               1.0  12.000000   17.000000  3.442890  344289.000000   \n",
       "\n",
       "        Latitude  Longitude   Sum  \n",
       "count   3.000000   3.000000   3.0  \n",
       "mean   39.107582 -84.513659  26.0  \n",
       "std     0.007161   0.004518   1.0  \n",
       "min    39.099435 -84.516573  25.0  \n",
       "25%    39.104931 -84.516261  25.5  \n",
       "50%    39.110427 -84.515948  26.0  \n",
       "75%    39.111655 -84.512201  26.5  \n",
       "max    39.112883 -84.508455  27.0  "
      ]
     },
     "execution_count": 286,
     "metadata": {},
     "output_type": "execute_result"
    }
   ],
   "source": [
    "M1.describe()   # Cluster 1"
   ]
  },
  {
   "cell_type": "code",
   "execution_count": 287,
   "metadata": {},
   "outputs": [
    {
     "data": {
      "text/html": [
       "<div>\n",
       "<style scoped>\n",
       "    .dataframe tbody tr th:only-of-type {\n",
       "        vertical-align: middle;\n",
       "    }\n",
       "\n",
       "    .dataframe tbody tr th {\n",
       "        vertical-align: top;\n",
       "    }\n",
       "\n",
       "    .dataframe thead th {\n",
       "        text-align: right;\n",
       "    }\n",
       "</style>\n",
       "<table border=\"1\" class=\"dataframe\">\n",
       "  <thead>\n",
       "    <tr style=\"text-align: right;\">\n",
       "      <th></th>\n",
       "      <th>Cluster Labels</th>\n",
       "      <th>Brewery</th>\n",
       "      <th>Coffeeshop</th>\n",
       "      <th>HV_Norm</th>\n",
       "      <th>Home Value</th>\n",
       "      <th>Latitude</th>\n",
       "      <th>Longitude</th>\n",
       "      <th>Sum</th>\n",
       "    </tr>\n",
       "  </thead>\n",
       "  <tbody>\n",
       "    <tr>\n",
       "      <td>count</td>\n",
       "      <td>29.0</td>\n",
       "      <td>29.000000</td>\n",
       "      <td>29.000000</td>\n",
       "      <td>29.000000</td>\n",
       "      <td>29.000000</td>\n",
       "      <td>29.000000</td>\n",
       "      <td>29.000000</td>\n",
       "      <td>29.000000</td>\n",
       "    </tr>\n",
       "    <tr>\n",
       "      <td>mean</td>\n",
       "      <td>2.0</td>\n",
       "      <td>2.931034</td>\n",
       "      <td>0.965517</td>\n",
       "      <td>1.617658</td>\n",
       "      <td>161765.793103</td>\n",
       "      <td>39.338703</td>\n",
       "      <td>-84.390524</td>\n",
       "      <td>3.896552</td>\n",
       "    </tr>\n",
       "    <tr>\n",
       "      <td>std</td>\n",
       "      <td>0.0</td>\n",
       "      <td>1.131719</td>\n",
       "      <td>0.731083</td>\n",
       "      <td>1.015362</td>\n",
       "      <td>101536.155239</td>\n",
       "      <td>0.280007</td>\n",
       "      <td>0.158712</td>\n",
       "      <td>1.496301</td>\n",
       "    </tr>\n",
       "    <tr>\n",
       "      <td>min</td>\n",
       "      <td>2.0</td>\n",
       "      <td>2.000000</td>\n",
       "      <td>0.000000</td>\n",
       "      <td>0.286260</td>\n",
       "      <td>28626.000000</td>\n",
       "      <td>39.099035</td>\n",
       "      <td>-84.632216</td>\n",
       "      <td>2.000000</td>\n",
       "    </tr>\n",
       "    <tr>\n",
       "      <td>25%</td>\n",
       "      <td>2.0</td>\n",
       "      <td>2.000000</td>\n",
       "      <td>0.000000</td>\n",
       "      <td>0.954330</td>\n",
       "      <td>95433.000000</td>\n",
       "      <td>39.142362</td>\n",
       "      <td>-84.513775</td>\n",
       "      <td>3.000000</td>\n",
       "    </tr>\n",
       "    <tr>\n",
       "      <td>50%</td>\n",
       "      <td>2.0</td>\n",
       "      <td>3.000000</td>\n",
       "      <td>1.000000</td>\n",
       "      <td>1.545130</td>\n",
       "      <td>154513.000000</td>\n",
       "      <td>39.164480</td>\n",
       "      <td>-84.427997</td>\n",
       "      <td>3.000000</td>\n",
       "    </tr>\n",
       "    <tr>\n",
       "      <td>75%</td>\n",
       "      <td>2.0</td>\n",
       "      <td>4.000000</td>\n",
       "      <td>1.000000</td>\n",
       "      <td>2.013400</td>\n",
       "      <td>201340.000000</td>\n",
       "      <td>39.725337</td>\n",
       "      <td>-84.200210</td>\n",
       "      <td>5.000000</td>\n",
       "    </tr>\n",
       "    <tr>\n",
       "      <td>max</td>\n",
       "      <td>2.0</td>\n",
       "      <td>6.000000</td>\n",
       "      <td>2.000000</td>\n",
       "      <td>4.744200</td>\n",
       "      <td>474420.000000</td>\n",
       "      <td>39.773670</td>\n",
       "      <td>-84.158023</td>\n",
       "      <td>7.000000</td>\n",
       "    </tr>\n",
       "  </tbody>\n",
       "</table>\n",
       "</div>"
      ],
      "text/plain": [
       "       Cluster Labels    Brewery  Coffeeshop    HV_Norm     Home Value  \\\n",
       "count            29.0  29.000000   29.000000  29.000000      29.000000   \n",
       "mean              2.0   2.931034    0.965517   1.617658  161765.793103   \n",
       "std               0.0   1.131719    0.731083   1.015362  101536.155239   \n",
       "min               2.0   2.000000    0.000000   0.286260   28626.000000   \n",
       "25%               2.0   2.000000    0.000000   0.954330   95433.000000   \n",
       "50%               2.0   3.000000    1.000000   1.545130  154513.000000   \n",
       "75%               2.0   4.000000    1.000000   2.013400  201340.000000   \n",
       "max               2.0   6.000000    2.000000   4.744200  474420.000000   \n",
       "\n",
       "        Latitude  Longitude        Sum  \n",
       "count  29.000000  29.000000  29.000000  \n",
       "mean   39.338703 -84.390524   3.896552  \n",
       "std     0.280007   0.158712   1.496301  \n",
       "min    39.099035 -84.632216   2.000000  \n",
       "25%    39.142362 -84.513775   3.000000  \n",
       "50%    39.164480 -84.427997   3.000000  \n",
       "75%    39.725337 -84.200210   5.000000  \n",
       "max    39.773670 -84.158023   7.000000  "
      ]
     },
     "execution_count": 287,
     "metadata": {},
     "output_type": "execute_result"
    }
   ],
   "source": [
    "M2.describe()   # Cluster 2"
   ]
  },
  {
   "cell_type": "code",
   "execution_count": 288,
   "metadata": {},
   "outputs": [
    {
     "data": {
      "text/html": [
       "<div>\n",
       "<style scoped>\n",
       "    .dataframe tbody tr th:only-of-type {\n",
       "        vertical-align: middle;\n",
       "    }\n",
       "\n",
       "    .dataframe tbody tr th {\n",
       "        vertical-align: top;\n",
       "    }\n",
       "\n",
       "    .dataframe thead th {\n",
       "        text-align: right;\n",
       "    }\n",
       "</style>\n",
       "<table border=\"1\" class=\"dataframe\">\n",
       "  <thead>\n",
       "    <tr style=\"text-align: right;\">\n",
       "      <th></th>\n",
       "      <th>Cluster Labels</th>\n",
       "      <th>Brewery</th>\n",
       "      <th>Coffeeshop</th>\n",
       "      <th>HV_Norm</th>\n",
       "      <th>Home Value</th>\n",
       "      <th>Latitude</th>\n",
       "      <th>Longitude</th>\n",
       "      <th>Sum</th>\n",
       "    </tr>\n",
       "  </thead>\n",
       "  <tbody>\n",
       "    <tr>\n",
       "      <td>count</td>\n",
       "      <td>7.0</td>\n",
       "      <td>7.000000</td>\n",
       "      <td>7.000000</td>\n",
       "      <td>7.000000</td>\n",
       "      <td>7.000000</td>\n",
       "      <td>7.000000</td>\n",
       "      <td>7.000000</td>\n",
       "      <td>7.000000</td>\n",
       "    </tr>\n",
       "    <tr>\n",
       "      <td>mean</td>\n",
       "      <td>3.0</td>\n",
       "      <td>10.142857</td>\n",
       "      <td>4.000000</td>\n",
       "      <td>2.041820</td>\n",
       "      <td>204182.000000</td>\n",
       "      <td>39.117401</td>\n",
       "      <td>-84.515850</td>\n",
       "      <td>14.142857</td>\n",
       "    </tr>\n",
       "    <tr>\n",
       "      <td>std</td>\n",
       "      <td>0.0</td>\n",
       "      <td>1.772811</td>\n",
       "      <td>1.914854</td>\n",
       "      <td>1.174867</td>\n",
       "      <td>117486.736636</td>\n",
       "      <td>0.006763</td>\n",
       "      <td>0.012433</td>\n",
       "      <td>3.132016</td>\n",
       "    </tr>\n",
       "    <tr>\n",
       "      <td>min</td>\n",
       "      <td>3.0</td>\n",
       "      <td>8.000000</td>\n",
       "      <td>1.000000</td>\n",
       "      <td>0.511280</td>\n",
       "      <td>51128.000000</td>\n",
       "      <td>39.109160</td>\n",
       "      <td>-84.527496</td>\n",
       "      <td>10.000000</td>\n",
       "    </tr>\n",
       "    <tr>\n",
       "      <td>25%</td>\n",
       "      <td>3.0</td>\n",
       "      <td>8.500000</td>\n",
       "      <td>3.000000</td>\n",
       "      <td>1.624805</td>\n",
       "      <td>162480.500000</td>\n",
       "      <td>39.112388</td>\n",
       "      <td>-84.525948</td>\n",
       "      <td>11.500000</td>\n",
       "    </tr>\n",
       "    <tr>\n",
       "      <td>50%</td>\n",
       "      <td>3.0</td>\n",
       "      <td>11.000000</td>\n",
       "      <td>4.000000</td>\n",
       "      <td>1.636750</td>\n",
       "      <td>163675.000000</td>\n",
       "      <td>39.115338</td>\n",
       "      <td>-84.520908</td>\n",
       "      <td>15.000000</td>\n",
       "    </tr>\n",
       "    <tr>\n",
       "      <td>75%</td>\n",
       "      <td>3.0</td>\n",
       "      <td>11.500000</td>\n",
       "      <td>5.000000</td>\n",
       "      <td>2.371200</td>\n",
       "      <td>237120.000000</td>\n",
       "      <td>39.123301</td>\n",
       "      <td>-84.507721</td>\n",
       "      <td>16.500000</td>\n",
       "    </tr>\n",
       "    <tr>\n",
       "      <td>max</td>\n",
       "      <td>3.0</td>\n",
       "      <td>12.000000</td>\n",
       "      <td>7.000000</td>\n",
       "      <td>4.152700</td>\n",
       "      <td>415270.000000</td>\n",
       "      <td>39.125934</td>\n",
       "      <td>-84.495205</td>\n",
       "      <td>18.000000</td>\n",
       "    </tr>\n",
       "  </tbody>\n",
       "</table>\n",
       "</div>"
      ],
      "text/plain": [
       "       Cluster Labels    Brewery  Coffeeshop   HV_Norm     Home Value  \\\n",
       "count             7.0   7.000000    7.000000  7.000000       7.000000   \n",
       "mean              3.0  10.142857    4.000000  2.041820  204182.000000   \n",
       "std               0.0   1.772811    1.914854  1.174867  117486.736636   \n",
       "min               3.0   8.000000    1.000000  0.511280   51128.000000   \n",
       "25%               3.0   8.500000    3.000000  1.624805  162480.500000   \n",
       "50%               3.0  11.000000    4.000000  1.636750  163675.000000   \n",
       "75%               3.0  11.500000    5.000000  2.371200  237120.000000   \n",
       "max               3.0  12.000000    7.000000  4.152700  415270.000000   \n",
       "\n",
       "        Latitude  Longitude        Sum  \n",
       "count   7.000000   7.000000   7.000000  \n",
       "mean   39.117401 -84.515850  14.142857  \n",
       "std     0.006763   0.012433   3.132016  \n",
       "min    39.109160 -84.527496  10.000000  \n",
       "25%    39.112388 -84.525948  11.500000  \n",
       "50%    39.115338 -84.520908  15.000000  \n",
       "75%    39.123301 -84.507721  16.500000  \n",
       "max    39.125934 -84.495205  18.000000  "
      ]
     },
     "execution_count": 288,
     "metadata": {},
     "output_type": "execute_result"
    }
   ],
   "source": [
    "M3.describe()   # Cluster 3"
   ]
  },
  {
   "cell_type": "code",
   "execution_count": 289,
   "metadata": {},
   "outputs": [
    {
     "data": {
      "text/html": [
       "<div>\n",
       "<style scoped>\n",
       "    .dataframe tbody tr th:only-of-type {\n",
       "        vertical-align: middle;\n",
       "    }\n",
       "\n",
       "    .dataframe tbody tr th {\n",
       "        vertical-align: top;\n",
       "    }\n",
       "\n",
       "    .dataframe thead th {\n",
       "        text-align: right;\n",
       "    }\n",
       "</style>\n",
       "<table border=\"1\" class=\"dataframe\">\n",
       "  <thead>\n",
       "    <tr style=\"text-align: right;\">\n",
       "      <th></th>\n",
       "      <th>Cluster Labels</th>\n",
       "      <th>Brewery</th>\n",
       "      <th>Coffeeshop</th>\n",
       "      <th>HV_Norm</th>\n",
       "      <th>Home Value</th>\n",
       "      <th>Latitude</th>\n",
       "      <th>Longitude</th>\n",
       "      <th>Sum</th>\n",
       "    </tr>\n",
       "  </thead>\n",
       "  <tbody>\n",
       "    <tr>\n",
       "      <td>count</td>\n",
       "      <td>13.0</td>\n",
       "      <td>13.000000</td>\n",
       "      <td>13.000000</td>\n",
       "      <td>13.000000</td>\n",
       "      <td>13.000000</td>\n",
       "      <td>13.000000</td>\n",
       "      <td>13.000000</td>\n",
       "      <td>13.000000</td>\n",
       "    </tr>\n",
       "    <tr>\n",
       "      <td>mean</td>\n",
       "      <td>4.0</td>\n",
       "      <td>2.846154</td>\n",
       "      <td>4.384615</td>\n",
       "      <td>1.430357</td>\n",
       "      <td>143035.692308</td>\n",
       "      <td>39.422245</td>\n",
       "      <td>-84.347074</td>\n",
       "      <td>7.230769</td>\n",
       "    </tr>\n",
       "    <tr>\n",
       "      <td>std</td>\n",
       "      <td>0.0</td>\n",
       "      <td>1.675617</td>\n",
       "      <td>1.502135</td>\n",
       "      <td>0.627331</td>\n",
       "      <td>62733.138814</td>\n",
       "      <td>0.316549</td>\n",
       "      <td>0.161078</td>\n",
       "      <td>2.803386</td>\n",
       "    </tr>\n",
       "    <tr>\n",
       "      <td>min</td>\n",
       "      <td>4.0</td>\n",
       "      <td>1.000000</td>\n",
       "      <td>3.000000</td>\n",
       "      <td>0.612380</td>\n",
       "      <td>61238.000000</td>\n",
       "      <td>39.105337</td>\n",
       "      <td>-84.551610</td>\n",
       "      <td>4.000000</td>\n",
       "    </tr>\n",
       "    <tr>\n",
       "      <td>25%</td>\n",
       "      <td>4.0</td>\n",
       "      <td>2.000000</td>\n",
       "      <td>3.000000</td>\n",
       "      <td>1.003160</td>\n",
       "      <td>100316.000000</td>\n",
       "      <td>39.136807</td>\n",
       "      <td>-84.477637</td>\n",
       "      <td>5.000000</td>\n",
       "    </tr>\n",
       "    <tr>\n",
       "      <td>50%</td>\n",
       "      <td>4.0</td>\n",
       "      <td>2.000000</td>\n",
       "      <td>4.000000</td>\n",
       "      <td>1.582690</td>\n",
       "      <td>158269.000000</td>\n",
       "      <td>39.181768</td>\n",
       "      <td>-84.428286</td>\n",
       "      <td>6.000000</td>\n",
       "    </tr>\n",
       "    <tr>\n",
       "      <td>75%</td>\n",
       "      <td>4.0</td>\n",
       "      <td>4.000000</td>\n",
       "      <td>5.000000</td>\n",
       "      <td>1.695120</td>\n",
       "      <td>169512.000000</td>\n",
       "      <td>39.749641</td>\n",
       "      <td>-84.194938</td>\n",
       "      <td>8.000000</td>\n",
       "    </tr>\n",
       "    <tr>\n",
       "      <td>max</td>\n",
       "      <td>4.0</td>\n",
       "      <td>6.000000</td>\n",
       "      <td>7.000000</td>\n",
       "      <td>2.806860</td>\n",
       "      <td>280686.000000</td>\n",
       "      <td>39.767755</td>\n",
       "      <td>-84.140875</td>\n",
       "      <td>13.000000</td>\n",
       "    </tr>\n",
       "  </tbody>\n",
       "</table>\n",
       "</div>"
      ],
      "text/plain": [
       "       Cluster Labels    Brewery  Coffeeshop    HV_Norm     Home Value  \\\n",
       "count            13.0  13.000000   13.000000  13.000000      13.000000   \n",
       "mean              4.0   2.846154    4.384615   1.430357  143035.692308   \n",
       "std               0.0   1.675617    1.502135   0.627331   62733.138814   \n",
       "min               4.0   1.000000    3.000000   0.612380   61238.000000   \n",
       "25%               4.0   2.000000    3.000000   1.003160  100316.000000   \n",
       "50%               4.0   2.000000    4.000000   1.582690  158269.000000   \n",
       "75%               4.0   4.000000    5.000000   1.695120  169512.000000   \n",
       "max               4.0   6.000000    7.000000   2.806860  280686.000000   \n",
       "\n",
       "        Latitude  Longitude        Sum  \n",
       "count  13.000000  13.000000  13.000000  \n",
       "mean   39.422245 -84.347074   7.230769  \n",
       "std     0.316549   0.161078   2.803386  \n",
       "min    39.105337 -84.551610   4.000000  \n",
       "25%    39.136807 -84.477637   5.000000  \n",
       "50%    39.181768 -84.428286   6.000000  \n",
       "75%    39.749641 -84.194938   8.000000  \n",
       "max    39.767755 -84.140875  13.000000  "
      ]
     },
     "execution_count": 289,
     "metadata": {},
     "output_type": "execute_result"
    }
   ],
   "source": [
    "M4.describe()   # Cluster 4"
   ]
  },
  {
   "cell_type": "markdown",
   "metadata": {},
   "source": [
    "### Now Plot the Clusters together to visibly see how they grouped"
   ]
  },
  {
   "cell_type": "code",
   "execution_count": 290,
   "metadata": {},
   "outputs": [
    {
     "data": {
      "image/png": "[encoded data removed]",
      "text/plain": [
       "<Figure size 864x576 with 1 Axes>"
      ]
     },
     "metadata": {},
     "output_type": "display_data"
    }
   ],
   "source": [
    "ax = M0.plot(kind='scatter', x='Brewery', y='Coffeeshop',\n",
    "                                           color='Red', label='Cluster0', figsize=(12, 8))\n",
    "M1.plot(kind='scatter', x='Brewery', y='Coffeeshop',\n",
    "                                           color='Blue', label='Cluster1', ax=ax)\n",
    "M2.plot(kind='scatter', x='Brewery', y='Coffeeshop',\n",
    "                                           color='Green', label='Cluster2', ax=ax)\n",
    "M3.plot(kind='scatter', x='Brewery', y='Coffeeshop',\n",
    "                                           color='Orange', label='Cluster3', ax=ax)\n",
    "M4.plot(kind='scatter', x='Brewery', y='Coffeeshop',\n",
    "                                           color='Purple', label='Cluster4', ax=ax)\n",
    "\n",
    "plt.title('Display of Clusters of Brewery Count vs Coffee Shops', fontsize=16)\n",
    "ax.legend(prop=dict(size=14))\n",
    "\n",
    "\n",
    "plt.show()"
   ]
  },
  {
   "cell_type": "code",
   "execution_count": 282,
   "metadata": {},
   "outputs": [
    {
     "data": {
      "image/png": "[encoded data removed]",
      "text/plain": [
       "<Figure size 864x576 with 1 Axes>"
      ]
     },
     "metadata": {},
     "output_type": "display_data"
    }
   ],
   "source": [
    "ax = M0.plot(kind='scatter', x='Brewery', y='Home Value',\n",
    "                                           color='Red', label='Cluster0', figsize=(12, 8))\n",
    "M1.plot(kind='scatter', x='Brewery', y='Home Value',\n",
    "                                           color='Blue', label='Cluster1', ax=ax)\n",
    "M2.plot(kind='scatter', x='Brewery', y='Home Value',\n",
    "                                           color='Green', label='Cluster2', ax=ax)\n",
    "M3.plot(kind='scatter', x='Brewery', y='Home Value',\n",
    "                                           color='Orange', label='Cluster3', ax=ax)\n",
    "M4.plot(kind='scatter', x='Brewery', y='Home Value',\n",
    "                                           color='Purple', label='Cluster4', ax=ax)\n",
    "\n",
    "plt.title('Display of Clusters of Brewery Count vs Home Value', fontsize=16)\n",
    "ax.legend(prop=dict(size=14))\n",
    "\n",
    "\n",
    "plt.show()"
   ]
  },
  {
   "cell_type": "markdown",
   "metadata": {},
   "source": [
    "### For this final plot, the count of Brewery and coffeeshop are summed together and plotted vs Home value to get a better feel for how they combine in the clustering."
   ]
  },
  {
   "cell_type": "code",
   "execution_count": 291,
   "metadata": {},
   "outputs": [
    {
     "data": {
      "image/png": "[encoded data removed]",
      "text/plain": [
       "<Figure size 864x576 with 1 Axes>"
      ]
     },
     "metadata": {},
     "output_type": "display_data"
    }
   ],
   "source": [
    "ax = M0.plot(kind='scatter', x='Sum', y='Home Value',\n",
    "                                           color='Red', label='Cluster0', figsize=(12, 8))\n",
    "M1.plot(kind='scatter', x='Sum', y='Home Value',\n",
    "                                           color='Blue', label='Cluster1', ax=ax)\n",
    "M2.plot(kind='scatter', x='Sum', y='Home Value',\n",
    "                                           color='Green', label='Cluster2', ax=ax)\n",
    "M3.plot(kind='scatter', x='Sum', y='Home Value',\n",
    "                                           color='Orange', label='Cluster3', ax=ax)\n",
    "M4.plot(kind='scatter', x='Sum', y='Home Value',\n",
    "                                           color='Purple', label='Cluster4', ax=ax)\n",
    "\n",
    "plt.title('Display of Clusters of Sum (of Brewery & Coffee) vs Home Value', fontsize=16)\n",
    "ax.legend(prop=dict(size=14))\n",
    "\n",
    "\n",
    "plt.show()"
   ]
  },
  {
   "cell_type": "markdown",
   "metadata": {},
   "source": [
    "# Conclusions:"
   ]
  },
  {
   "cell_type": "markdown",
   "metadata": {},
   "source": [
    "#### The neighborhood discovery, analysis, and clustering project provided interesting and useable results for identifying groups of similar neighborhoods in two different cities. "
   ]
  },
  {
   "cell_type": "markdown",
   "metadata": {},
   "source": [
    "#### Cluster 0: is comprised of the lower price-range, low-venue count neighborhoods. These are the least desirable neighborhoods in this project."
   ]
  },
  {
   "cell_type": "markdown",
   "metadata": {},
   "source": [
    "#### Cluster 1: is comprised of the very high price-range,venue-dense neighborhoods. While these neighborhoods are certainly the top of the market, the housing cost puts them out of most modest budgets and the density of venues suggest there may be little room to expand the market. An additional issue, is that this cluster is solely in Cincinnati, which limits its usefulness if you are looking in Dayton."
   ]
  },
  {
   "cell_type": "markdown",
   "metadata": {},
   "source": [
    "#### Cluster 2: this cluster starts to get after the desired results, of affordability and venue density, but is still on the low-end of both, but it does look to overlap a bit with cluster 4."
   ]
  },
  {
   "cell_type": "markdown",
   "metadata": {},
   "source": [
    "#### Cluster 3: is the opposite of cluster 2, this cluster starts to get on the high-end of affordability and venue count, again with a bit of overlap with cluster 4."
   ]
  },
  {
   "cell_type": "markdown",
   "metadata": {},
   "source": [
    "#### Cluster 4: is the sweet spot in this analysis. Although a variety of customers might be interested in any of the clusters based on their own circumstances, Cluster 4 provides  balanced levels of both affordability and venue density. This cluster also has decent representation in both cities."
   ]
  },
  {
   "cell_type": "markdown",
   "metadata": {},
   "source": [
    "...."
   ]
  },
  {
   "cell_type": "markdown",
   "metadata": {},
   "source": [
    "# Appendix:"
   ]
  },
  {
   "cell_type": "markdown",
   "metadata": {},
   "source": [
    "## Definitions Saved at bottom of page to de-clutter the notebook... "
   ]
  },
  {
   "cell_type": "code",
   "execution_count": 16,
   "metadata": {},
   "outputs": [],
   "source": [
    "def getNearbyVenues(names, latitudes, longitudes, radius=500):\n",
    "    LIMIT = 100 # limit of number of venues returned by Foursquare API\n",
    "    radius = 1800 # define radius\n",
    "    venues_list=[]\n",
    "    query=\"Brewery\"\n",
    "    for name, lat, lng in zip(names, latitudes, longitudes):\n",
    "        #print(name)\n",
    "            \n",
    "        # create the API request URL\n",
    "        url = 'https://api.foursquare.com/v2/venues/explore?&client_id={}&client_secret={}&v={}&ll={},{}&query={}&radius={}'.format(   \n",
    "            CLIENT_ID, \n",
    "            CLIENT_SECRET, \n",
    "            VERSION, \n",
    "            lat, \n",
    "            lng, \n",
    "            query,\n",
    "            radius\n",
    "            )\n",
    "            \n",
    "        # make the GET request\n",
    "        results = requests.get(url).json()[\"response\"]['groups'][0]['items']\n",
    "        \n",
    "        # return only relevant information for each nearby venue\n",
    "        venues_list.append([(\n",
    "            name, \n",
    "            lat, \n",
    "            lng, \n",
    "            v['venue']['name'], \n",
    "            v['venue']['location']['lat'], \n",
    "            v['venue']['location']['lng'],  \n",
    "            v['venue']['categories'][0]['name']) for v in results])\n",
    "\n",
    "    nearby_venues = pd.DataFrame([item for venue_list in venues_list for item in venue_list])\n",
    "    nearby_venues.columns = ['Neighborhood', \n",
    "                  'Neighborhood Latitude', \n",
    "                  'Neighborhood Longitude', \n",
    "                  'Brewery', \n",
    "                  'Brewery Latitude', \n",
    "                  'Brewery Longitude', \n",
    "                  'Brewery Category']\n",
    "    \n",
    "    return(nearby_venues)"
   ]
  },
  {
   "cell_type": "code",
   "execution_count": 15,
   "metadata": {},
   "outputs": [],
   "source": [
    "def getNearbyVenues2(names, latitudes, longitudes, radius=500):\n",
    "    LIMIT = 100 # limit of number of venues returned by Foursquare API\n",
    "    radius = 1000 # define radius\n",
    "    venues_list=[]\n",
    "    query=\"Coffee shop\"\n",
    "    for name, lat, lng in zip(names, latitudes, longitudes):\n",
    "        #print(name)\n",
    "            \n",
    "        # create the API request URL\n",
    "        url = 'https://api.foursquare.com/v2/venues/explore?&client_id={}&client_secret={}&v={}&ll={},{}&query={}&radius={}'.format(   \n",
    "            CLIENT_ID, \n",
    "            CLIENT_SECRET, \n",
    "            VERSION, \n",
    "            lat, \n",
    "            lng, \n",
    "            query,\n",
    "            radius\n",
    "            )\n",
    "            \n",
    "        # make the GET request\n",
    "        results = requests.get(url).json()[\"response\"]['groups'][0]['items']\n",
    "        \n",
    "        # return only relevant information for each nearby venue\n",
    "        venues_list.append([(\n",
    "            name, \n",
    "            lat, \n",
    "            lng, \n",
    "            v['venue']['name'], \n",
    "            v['venue']['location']['lat'], \n",
    "            v['venue']['location']['lng'],  \n",
    "            v['venue']['categories'][0]['name']) for v in results])\n",
    "\n",
    "    nearby_venues = pd.DataFrame([item for venue_list in venues_list for item in venue_list])\n",
    "    nearby_venues.columns = ['Neighborhood', \n",
    "                  'Neighborhood Latitude', \n",
    "                  'Neighborhood Longitude', \n",
    "                  'Coffeeshop', \n",
    "                  'Coffeeshop Latitude', \n",
    "                  'Coffeeshop Longitude', \n",
    "                  'Coffeeshop Category']\n",
    "    \n",
    "    return(nearby_venues)"
   ]
  },
  {
   "cell_type": "code",
   "execution_count": null,
   "metadata": {},
   "outputs": [],
   "source": []
  }
 ],
 "metadata": {
  "kernelspec": {
   "display_name": "Python 3",
   "language": "python",
   "name": "python3"
  },
  "language_info": {
   "codemirror_mode": {
    "name": "ipython",
    "version": 3
   },
   "file_extension": ".py",
   "mimetype": "text/x-python",
   "name": "python",
   "nbconvert_exporter": "python",
   "pygments_lexer": "ipython3",
   "version": "3.7.4"
  }
 },
 "nbformat": 4,
 "nbformat_minor": 2
}
