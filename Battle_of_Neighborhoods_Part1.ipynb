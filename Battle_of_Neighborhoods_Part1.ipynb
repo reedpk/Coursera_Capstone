{
 "cells": [
  {
   "cell_type": "markdown",
   "metadata": {},
   "source": [
    "## Patrick's \"Battle of the Neighborhoods\" Coursera Capstone Project Notebook!"
   ]
  },
  {
   "cell_type": "markdown",
   "metadata": {},
   "source": [
    "### Problem Set:\n",
    "    Comparing neighborhoods in the cities of Cincinnati and Dayton Ohio\n",
    "    "
   ]
  },
  {
   "cell_type": "markdown",
   "metadata": {},
   "source": [
    "### Criteria: \n",
    "we are going to look at the number of nearby breweries and coffe shops as well as the average home cost to make a decision about the most fun, but affordable neighborhoods/city to live in."
   ]
  },
  {
   "cell_type": "markdown",
   "metadata": {},
   "source": [
    "### Use case: \n",
    "This type of analysis would be useful for home buyers looking for the best neighborhood to live in, or for investors looking for the best neighborhood to invest in (or where the market is saturated)."
   ]
  },
  {
   "cell_type": "markdown",
   "metadata": {},
   "source": [
    "### Data:\n",
    "The data used in this notebook is a table of city neighborhood data and locations with Zillow real estate average home cost added.\n",
    "This data will be combined with a venue category search (brewery and coffee shop) to get three data points per neighborhood to complete the cluster analysis on."
   ]
  },
  {
   "cell_type": "markdown",
   "metadata": {},
   "source": [
    "Why brewery and Coffee shop? ...clusters of these buisnesses tend to open in trendy upcomming neighborhoods where real estate values are still cheap, but young professionals are congregating."
   ]
  },
  {
   "cell_type": "markdown",
   "metadata": {},
   "source": [
    "..."
   ]
  },
  {
   "cell_type": "markdown",
   "metadata": {},
   "source": [
    "#### Prepare the environment by importing all necessary modules"
   ]
  },
  {
   "cell_type": "code",
   "execution_count": 43,
   "metadata": {},
   "outputs": [],
   "source": [
    "import pandas as pd\n",
    "import numpy as np\n",
    "import json                                # library to handle JSON files\n",
    "from geopy.geocoders import Nominatim      # convert an address into latitude and longitude values\n",
    "import requests                            # library to handle requests\n",
    "from pandas.io.json import json_normalize  # tranform JSON file into a pandas dataframe\n",
    "import matplotlib.cm as cm                 # Matplotlib and associated plotting modules\n",
    "import matplotlib.colors as colors\n",
    "from sklearn.cluster import KMeans         # import k-means from clustering stage\n",
    "import folium\n",
    "from bs4 import BeautifulSoup              # Import BeautifulSoup package to parse wiki website\n",
    "import geocoder\n",
    "import fastkml\n",
    "from fastkml import  kml\n",
    "import quandl                              # Setup API for neighborhood housing data\n",
    "quandl.ApiConfig.api_key = \"wYmDtm_wythZw4HbXAKr\""
   ]
  },
  {
   "cell_type": "markdown",
   "metadata": {},
   "source": [
    "..."
   ]
  },
  {
   "cell_type": "markdown",
   "metadata": {},
   "source": [
    "## Part 1: Data Wrangling - Gather City / Neighborhood Information"
   ]
  },
  {
   "cell_type": "markdown",
   "metadata": {},
   "source": [
    "#### Read in the Dayton, OH Neighborhood Data with Latitude, Longitude data as well as real estate sales information from Zillow"
   ]
  },
  {
   "cell_type": "code",
   "execution_count": 80,
   "metadata": {},
   "outputs": [
    {
     "name": "stdout",
     "output_type": "stream",
     "text": [
      "(62, 7)\n"
     ]
    },
    {
     "data": {
      "text/html": [
       "<div>\n",
       "<style scoped>\n",
       "    .dataframe tbody tr th:only-of-type {\n",
       "        vertical-align: middle;\n",
       "    }\n",
       "\n",
       "    .dataframe tbody tr th {\n",
       "        vertical-align: top;\n",
       "    }\n",
       "\n",
       "    .dataframe thead th {\n",
       "        text-align: right;\n",
       "    }\n",
       "</style>\n",
       "<table border=\"1\" class=\"dataframe\">\n",
       "  <thead>\n",
       "    <tr style=\"text-align: right;\">\n",
       "      <th></th>\n",
       "      <th>Latitude</th>\n",
       "      <th>Longitude</th>\n",
       "      <th>Neighborhood</th>\n",
       "      <th>City</th>\n",
       "      <th>State</th>\n",
       "      <th>County</th>\n",
       "      <th>Home Value</th>\n",
       "    </tr>\n",
       "  </thead>\n",
       "  <tbody>\n",
       "    <tr>\n",
       "      <td>0</td>\n",
       "      <td>39.747656</td>\n",
       "      <td>-84.245002</td>\n",
       "      <td>Arlington Heights</td>\n",
       "      <td>Dayton</td>\n",
       "      <td>OH</td>\n",
       "      <td>Montgomery</td>\n",
       "      <td>30823</td>\n",
       "    </tr>\n",
       "    <tr>\n",
       "      <td>1</td>\n",
       "      <td>39.709226</td>\n",
       "      <td>-84.063269</td>\n",
       "      <td>Beavercreek</td>\n",
       "      <td>Dayton</td>\n",
       "      <td>OH</td>\n",
       "      <td>Greene</td>\n",
       "      <td>217489</td>\n",
       "    </tr>\n",
       "    <tr>\n",
       "      <td>2</td>\n",
       "      <td>39.733461</td>\n",
       "      <td>-84.140875</td>\n",
       "      <td>Belmont</td>\n",
       "      <td>Dayton</td>\n",
       "      <td>OH</td>\n",
       "      <td>Montgomery</td>\n",
       "      <td>87032</td>\n",
       "    </tr>\n",
       "    <tr>\n",
       "      <td>3</td>\n",
       "      <td>39.759672</td>\n",
       "      <td>-84.151428</td>\n",
       "      <td>Burkhardt</td>\n",
       "      <td>Dayton</td>\n",
       "      <td>OH</td>\n",
       "      <td>Montgomery</td>\n",
       "      <td>61238</td>\n",
       "    </tr>\n",
       "    <tr>\n",
       "      <td>4</td>\n",
       "      <td>39.741796</td>\n",
       "      <td>-84.200474</td>\n",
       "      <td>Carillon</td>\n",
       "      <td>Dayton</td>\n",
       "      <td>OH</td>\n",
       "      <td>Montgomery</td>\n",
       "      <td>31161</td>\n",
       "    </tr>\n",
       "    <tr>\n",
       "      <td>5</td>\n",
       "      <td>39.783338</td>\n",
       "      <td>-84.239734</td>\n",
       "      <td>College Hill</td>\n",
       "      <td>Dayton</td>\n",
       "      <td>OH</td>\n",
       "      <td>Montgomery</td>\n",
       "      <td>49168</td>\n",
       "    </tr>\n",
       "    <tr>\n",
       "      <td>6</td>\n",
       "      <td>39.773070</td>\n",
       "      <td>-84.239734</td>\n",
       "      <td>Cornell Heights</td>\n",
       "      <td>Dayton</td>\n",
       "      <td>OH</td>\n",
       "      <td>Montgomery</td>\n",
       "      <td>34983</td>\n",
       "    </tr>\n",
       "    <tr>\n",
       "      <td>7</td>\n",
       "      <td>39.780248</td>\n",
       "      <td>-84.229197</td>\n",
       "      <td>Dayton View Triangle</td>\n",
       "      <td>Dayton</td>\n",
       "      <td>OH</td>\n",
       "      <td>Montgomery</td>\n",
       "      <td>69062</td>\n",
       "    </tr>\n",
       "    <tr>\n",
       "      <td>8</td>\n",
       "      <td>39.797985</td>\n",
       "      <td>-84.198892</td>\n",
       "      <td>DeWeese</td>\n",
       "      <td>Dayton</td>\n",
       "      <td>OH</td>\n",
       "      <td>Montgomery</td>\n",
       "      <td>85244</td>\n",
       "    </tr>\n",
       "    <tr>\n",
       "      <td>9</td>\n",
       "      <td>39.760571</td>\n",
       "      <td>-84.194938</td>\n",
       "      <td>Downtown</td>\n",
       "      <td>Dayton</td>\n",
       "      <td>OH</td>\n",
       "      <td>Montgomery</td>\n",
       "      <td>169512</td>\n",
       "    </tr>\n",
       "  </tbody>\n",
       "</table>\n",
       "</div>"
      ],
      "text/plain": [
       "    Latitude  Longitude          Neighborhood    City State      County  \\\n",
       "0  39.747656 -84.245002     Arlington Heights  Dayton    OH  Montgomery   \n",
       "1  39.709226 -84.063269           Beavercreek  Dayton    OH      Greene   \n",
       "2  39.733461 -84.140875               Belmont  Dayton    OH  Montgomery   \n",
       "3  39.759672 -84.151428             Burkhardt  Dayton    OH  Montgomery   \n",
       "4  39.741796 -84.200474              Carillon  Dayton    OH  Montgomery   \n",
       "5  39.783338 -84.239734          College Hill  Dayton    OH  Montgomery   \n",
       "6  39.773070 -84.239734       Cornell Heights  Dayton    OH  Montgomery   \n",
       "7  39.780248 -84.229197  Dayton View Triangle  Dayton    OH  Montgomery   \n",
       "8  39.797985 -84.198892               DeWeese  Dayton    OH  Montgomery   \n",
       "9  39.760571 -84.194938              Downtown  Dayton    OH  Montgomery   \n",
       "\n",
       "   Home Value  \n",
       "0       30823  \n",
       "1      217489  \n",
       "2       87032  \n",
       "3       61238  \n",
       "4       31161  \n",
       "5       49168  \n",
       "6       34983  \n",
       "7       69062  \n",
       "8       85244  \n",
       "9      169512  "
      ]
     },
     "execution_count": 80,
     "metadata": {},
     "output_type": "execute_result"
    }
   ],
   "source": [
    "filename=\"Dayton_hoods2.csv\"\n",
    "Dayton_data=pd.read_csv(filename)\n",
    "print(Dayton_data.shape)\n",
    "Dayton_data.head(10)"
   ]
  },
  {
   "cell_type": "markdown",
   "metadata": {},
   "source": [
    "#### Now, Read in the Cincinnati, OH Neighborhood Data with Latitude, Longitude data as real estate sales information from Zillow"
   ]
  },
  {
   "cell_type": "code",
   "execution_count": 81,
   "metadata": {},
   "outputs": [
    {
     "name": "stdout",
     "output_type": "stream",
     "text": [
      "(62, 7)\n"
     ]
    },
    {
     "data": {
      "text/html": [
       "<div>\n",
       "<style scoped>\n",
       "    .dataframe tbody tr th:only-of-type {\n",
       "        vertical-align: middle;\n",
       "    }\n",
       "\n",
       "    .dataframe tbody tr th {\n",
       "        vertical-align: top;\n",
       "    }\n",
       "\n",
       "    .dataframe thead th {\n",
       "        text-align: right;\n",
       "    }\n",
       "</style>\n",
       "<table border=\"1\" class=\"dataframe\">\n",
       "  <thead>\n",
       "    <tr style=\"text-align: right;\">\n",
       "      <th></th>\n",
       "      <th>Neighborhood</th>\n",
       "      <th>Latitude</th>\n",
       "      <th>Longitude</th>\n",
       "      <th>City</th>\n",
       "      <th>State</th>\n",
       "      <th>County</th>\n",
       "      <th>House Value</th>\n",
       "    </tr>\n",
       "  </thead>\n",
       "  <tbody>\n",
       "    <tr>\n",
       "      <td>0</td>\n",
       "      <td>Avondale</td>\n",
       "      <td>39.144963</td>\n",
       "      <td>-84.497811</td>\n",
       "      <td>Cincinnati</td>\n",
       "      <td>OH</td>\n",
       "      <td>Hamilton</td>\n",
       "      <td>81719</td>\n",
       "    </tr>\n",
       "    <tr>\n",
       "      <td>1</td>\n",
       "      <td>Bond Hill</td>\n",
       "      <td>39.177785</td>\n",
       "      <td>-84.477659</td>\n",
       "      <td>Cincinnati</td>\n",
       "      <td>OH</td>\n",
       "      <td>Hamilton</td>\n",
       "      <td>111614</td>\n",
       "    </tr>\n",
       "    <tr>\n",
       "      <td>2</td>\n",
       "      <td>California</td>\n",
       "      <td>39.065338</td>\n",
       "      <td>-84.419893</td>\n",
       "      <td>Cincinnati</td>\n",
       "      <td>OH</td>\n",
       "      <td>Hamilton</td>\n",
       "      <td>128577</td>\n",
       "    </tr>\n",
       "    <tr>\n",
       "      <td>3</td>\n",
       "      <td>Camp Washington</td>\n",
       "      <td>39.137950</td>\n",
       "      <td>-84.537609</td>\n",
       "      <td>Cincinnati</td>\n",
       "      <td>OH</td>\n",
       "      <td>Hamilton</td>\n",
       "      <td>58310</td>\n",
       "    </tr>\n",
       "    <tr>\n",
       "      <td>4</td>\n",
       "      <td>Carthage</td>\n",
       "      <td>39.195869</td>\n",
       "      <td>-84.485014</td>\n",
       "      <td>Cincinnati</td>\n",
       "      <td>OH</td>\n",
       "      <td>Hamilton</td>\n",
       "      <td>68406</td>\n",
       "    </tr>\n",
       "    <tr>\n",
       "      <td>5</td>\n",
       "      <td>Clifton Heights</td>\n",
       "      <td>39.125934</td>\n",
       "      <td>-84.520908</td>\n",
       "      <td>Cincinnati</td>\n",
       "      <td>OH</td>\n",
       "      <td>Hamilton</td>\n",
       "      <td>298535</td>\n",
       "    </tr>\n",
       "    <tr>\n",
       "      <td>6</td>\n",
       "      <td>College Hill</td>\n",
       "      <td>39.198536</td>\n",
       "      <td>-84.548428</td>\n",
       "      <td>Cincinnati</td>\n",
       "      <td>OH</td>\n",
       "      <td>Hamilton</td>\n",
       "      <td>130138</td>\n",
       "    </tr>\n",
       "    <tr>\n",
       "      <td>7</td>\n",
       "      <td>Columbia-Tusculum</td>\n",
       "      <td>39.115193</td>\n",
       "      <td>-84.436140</td>\n",
       "      <td>Cincinnati</td>\n",
       "      <td>OH</td>\n",
       "      <td>Hamilton</td>\n",
       "      <td>325009</td>\n",
       "    </tr>\n",
       "    <tr>\n",
       "      <td>8</td>\n",
       "      <td>Corryville</td>\n",
       "      <td>39.136807</td>\n",
       "      <td>-84.503866</td>\n",
       "      <td>Cincinnati</td>\n",
       "      <td>OH</td>\n",
       "      <td>Hamilton</td>\n",
       "      <td>158269</td>\n",
       "    </tr>\n",
       "    <tr>\n",
       "      <td>9</td>\n",
       "      <td>CUF</td>\n",
       "      <td>39.125115</td>\n",
       "      <td>-84.525842</td>\n",
       "      <td>Cincinnati</td>\n",
       "      <td>OH</td>\n",
       "      <td>Hamilton</td>\n",
       "      <td>161286</td>\n",
       "    </tr>\n",
       "  </tbody>\n",
       "</table>\n",
       "</div>"
      ],
      "text/plain": [
       "        Neighborhood   Latitude  Longitude        City State    County  \\\n",
       "0           Avondale  39.144963 -84.497811  Cincinnati    OH  Hamilton   \n",
       "1          Bond Hill  39.177785 -84.477659  Cincinnati    OH  Hamilton   \n",
       "2         California  39.065338 -84.419893  Cincinnati    OH  Hamilton   \n",
       "3    Camp Washington  39.137950 -84.537609  Cincinnati    OH  Hamilton   \n",
       "4           Carthage  39.195869 -84.485014  Cincinnati    OH  Hamilton   \n",
       "5    Clifton Heights  39.125934 -84.520908  Cincinnati    OH  Hamilton   \n",
       "6       College Hill  39.198536 -84.548428  Cincinnati    OH  Hamilton   \n",
       "7  Columbia-Tusculum  39.115193 -84.436140  Cincinnati    OH  Hamilton   \n",
       "8         Corryville  39.136807 -84.503866  Cincinnati    OH  Hamilton   \n",
       "9                CUF  39.125115 -84.525842  Cincinnati    OH  Hamilton   \n",
       "\n",
       "   House Value  \n",
       "0        81719  \n",
       "1       111614  \n",
       "2       128577  \n",
       "3        58310  \n",
       "4        68406  \n",
       "5       298535  \n",
       "6       130138  \n",
       "7       325009  \n",
       "8       158269  \n",
       "9       161286  "
      ]
     },
     "execution_count": 81,
     "metadata": {},
     "output_type": "execute_result"
    }
   ],
   "source": [
    "filename=\"Cincinnati_hoods2.csv\"\n",
    "Cincinnati_data=pd.read_csv(filename)\n",
    "print(Cincinnati_data.shape)\n",
    "Cincinnati_data.head(10)"
   ]
  },
  {
   "cell_type": "markdown",
   "metadata": {},
   "source": [
    "### Now, with the neighborhood data, we can visualize it on a map using folium "
   ]
  },
  {
   "cell_type": "code",
   "execution_count": 136,
   "metadata": {},
   "outputs": [
    {
     "name": "stdout",
     "output_type": "stream",
     "text": [
      "The geograpical coordinate of Dayton, OH are 39.7589478, -84.1916069.\n"
     ]
    }
   ],
   "source": [
    "address = 'Dayton, OH'\n",
    "\n",
    "geolocator = Nominatim(user_agent=\"OH_explorer\")\n",
    "location = geolocator.geocode(address)\n",
    "latitude = location.latitude\n",
    "longitude = location.longitude\n",
    "print('The geograpical coordinate of Dayton, OH are {}, {}.'.format(latitude, longitude))"
   ]
  },
  {
   "cell_type": "code",
   "execution_count": 137,
   "metadata": {},
   "outputs": [
    {
     "data": {
      "text/html": [
       "<div style=\"width:100%;\"><div style=\"position:relative;width:100%;height:0;padding-bottom:60%;\"><iframe src=\"about:blank\" style=\"position:absolute;width:100%;height:100%;left:0;top:0;border:none !important;\" data-html=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 onload=\"this.contentDocument.open();this.contentDocument.write(atob(this.getAttribute('data-html')));this.contentDocument.close();\" allowfullscreen webkitallowfullscreen mozallowfullscreen></iframe></div></div>"
      ],
      "text/plain": [
       "<folium.folium.Map at 0xce111b0>"
      ]
     },
     "execution_count": 137,
     "metadata": {},
     "output_type": "execute_result"
    }
   ],
   "source": [
    "# create map ofDayton, OH using latitude and longitude values\n",
    "map_Dayton = folium.Map(location=[latitude, longitude], zoom_start=12)\n",
    "\n",
    "# add markers to map\n",
    "for lat, lng, neighborhood in zip(Dayton_data['Latitude'], Dayton_data['Longitude'], Dayton_data['Neighborhood']):\n",
    "    label = '{}'.format(neighborhood)\n",
    "    label = folium.Popup(label, parse_html=True)\n",
    "    folium.CircleMarker(\n",
    "        [lat, lng],\n",
    "        radius=5,\n",
    "        popup=label,\n",
    "        color='blue',\n",
    "        fill=True,\n",
    "        fill_color='#3186cc',\n",
    "        fill_opacity=0.7,\n",
    "        parse_html=False).add_to(map_Dayton)  \n",
    "    \n",
    "map_Dayton"
   ]
  },
  {
   "cell_type": "code",
   "execution_count": 134,
   "metadata": {},
   "outputs": [
    {
     "name": "stdout",
     "output_type": "stream",
     "text": [
      "The geograpical coordinate of Cincinnati, OH are 39.1014537, -84.5124602.\n"
     ]
    }
   ],
   "source": [
    "address = 'Cincinnati, OH'\n",
    "\n",
    "geolocator = Nominatim(user_agent=\"OH_explorer\")\n",
    "location = geolocator.geocode(address)\n",
    "latitude = location.latitude\n",
    "longitude = location.longitude\n",
    "print('The geograpical coordinate of Cincinnati, OH are {}, {}.'.format(latitude, longitude))"
   ]
  },
  {
   "cell_type": "code",
   "execution_count": 135,
   "metadata": {},
   "outputs": [
    {
     "data": {
      "text/html": [
       "<div style=\"width:100%;\"><div style=\"position:relative;width:100%;height:0;padding-bottom:60%;\"><iframe src=\"about:blank\" style=\"position:absolute;width:100%;height:100%;left:0;top:0;border:none !important;\" data-html=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 onload=\"this.contentDocument.open();this.contentDocument.write(atob(this.getAttribute('data-html')));this.contentDocument.close();\" allowfullscreen webkitallowfullscreen mozallowfullscreen></iframe></div></div>"
      ],
      "text/plain": [
       "<folium.folium.Map at 0xcac2b70>"
      ]
     },
     "execution_count": 135,
     "metadata": {},
     "output_type": "execute_result"
    }
   ],
   "source": [
    "# create map ofCincinnati, OH using latitude and longitude values\n",
    "map_Cincinnati = folium.Map(location=[latitude, longitude], zoom_start=11)\n",
    "\n",
    "# add markers to map\n",
    "for lat, lng, neighborhood in zip(Cincinnati_data['Latitude'], Cincinnati_data['Longitude'], Cincinnati_data['Neighborhood']):\n",
    "    label = '{}'.format(neighborhood)\n",
    "    label = folium.Popup(label, parse_html=True)\n",
    "    folium.CircleMarker(\n",
    "        [lat, lng],\n",
    "        radius=5,\n",
    "        popup=label,\n",
    "        color='blue',\n",
    "        fill=True,\n",
    "        fill_color='#3186cc',\n",
    "        fill_opacity=0.7,\n",
    "        parse_html=False).add_to(map_Cincinnati)  \n",
    "    \n",
    "map_Cincinnati"
   ]
  },
  {
   "cell_type": "markdown",
   "metadata": {},
   "source": [
    "## Part 2: Use FourSquare to Gather Venues for the Two Cities"
   ]
  },
  {
   "cell_type": "markdown",
   "metadata": {},
   "source": [
    "#### Set up FourSquare Client information"
   ]
  },
  {
   "cell_type": "code",
   "execution_count": 53,
   "metadata": {},
   "outputs": [
    {
     "name": "stdout",
     "output_type": "stream",
     "text": [
      "Your credentails:\n",
      "CLIENT_ID: G4XYV2OWUJSPBPVI00SJXGVWFAP21E3ZNJXHWTSAODQPKIVG\n",
      "CLIENT_SECRET:J3TXUHL4AZBXEYYRU2OF4OW33BXUR1KKSCMWHLJOKYQUJK2I\n"
     ]
    }
   ],
   "source": [
    "CLIENT_ID = 'G4XYV2OWUJSPBPVI00SJXGVWFAP21E3ZNJXHWTSAODQPKIVG' # your Foursquare ID\n",
    "CLIENT_SECRET = 'J3TXUHL4AZBXEYYRU2OF4OW33BXUR1KKSCMWHLJOKYQUJK2I' # your Foursquare Secret\n",
    "#VERSION = '20180605' # Foursquare API version\n",
    "VERSION = '20200101' # Foursquare API version\n",
    "print('Your credentails:')\n",
    "print('CLIENT_ID: ' + CLIENT_ID)\n",
    "print('CLIENT_SECRET:' + CLIENT_SECRET)"
   ]
  },
  {
   "cell_type": "code",
   "execution_count": 86,
   "metadata": {},
   "outputs": [],
   "source": [
    "#Dayton_venues = getNearbyVenues(names=Dayton_data['Neighborhood'],\n",
    "                                   latitudes=Dayton_data['Latitude'],\n",
    "                                   longitudes=Dayton_data['Longitude']\n",
    "                                  )"
   ]
  },
  {
   "cell_type": "code",
   "execution_count": 96,
   "metadata": {},
   "outputs": [],
   "source": [
    "#Dayton_venues2 = getNearbyVenues2(names=Dayton_data['Neighborhood'],\n",
    "                                   latitudes=Dayton_data['Latitude'],\n",
    "                                   longitudes=Dayton_data['Longitude']\n",
    "                                  )"
   ]
  },
  {
   "cell_type": "code",
   "execution_count": 56,
   "metadata": {},
   "outputs": [],
   "source": [
    "#Cincinnati_venues = getNearbyVenues(names=Cincinnati_data['Neighborhood'],\n",
    "                                   latitudes=Cincinnati_data['Latitude'],\n",
    "                                   longitudes=Cincinnati_data['Longitude']\n",
    "                                  )"
   ]
  },
  {
   "cell_type": "code",
   "execution_count": 57,
   "metadata": {},
   "outputs": [],
   "source": [
    "#Cincinnati_venues2 = getNearbyVenues2(names=Cincinnati_data['Neighborhood'],\n",
    "                                   latitudes=Cincinnati_data['Latitude'],\n",
    "                                   longitudes=Cincinnati_data['Longitude']\n",
    "                                  )"
   ]
  },
  {
   "cell_type": "code",
   "execution_count": 98,
   "metadata": {},
   "outputs": [
    {
     "name": "stdout",
     "output_type": "stream",
     "text": [
      "Dayton Brew Shape: (69, 7)\n",
      "Dayton Coffee Shape: (69, 7)\n",
      "Cincinnati Brew Shape: (207, 7)\n",
      "Cincinnati Coffee Shape: (207, 7)\n"
     ]
    }
   ],
   "source": [
    "print('Dayton Brew Shape:',Dayton_venues.shape)\n",
    "print('Dayton Coffee Shape:',Dayton_venues.shape)\n",
    "print('Cincinnati Brew Shape:',Cincinnati_venues.shape)\n",
    "print('Cincinnati Coffee Shape:',Cincinnati_venues.shape)"
   ]
  },
  {
   "cell_type": "code",
   "execution_count": 100,
   "metadata": {},
   "outputs": [
    {
     "name": "stdout",
     "output_type": "stream",
     "text": [
      "(69, 7)\n"
     ]
    }
   ],
   "source": [
    "print(Dayton_venues.shape)\n",
    "Dayton_venues.sort_values(\"Neighborhood\", inplace = True)\n",
    "new=Dayton_venues.groupby('Neighborhood').count()\n",
    "new.sort_values(\"Neighborhood\", inplace = True)"
   ]
  },
  {
   "cell_type": "markdown",
   "metadata": {},
   "source": [
    "### The FourSquare Search returned \"Cafes\" as well as \"Coffee shops\". I want to focus on Coffeeshops in particular so I drop the rows with \"cafe\".   Similarly, Drop \"bar\" and \"Pub\" from the Brewery Category."
   ]
  },
  {
   "cell_type": "code",
   "execution_count": 122,
   "metadata": {},
   "outputs": [],
   "source": [
    "Dayton_venues2.drop(Dayton_venues2[ Dayton_venues2['Coffeeshop Category'] == 'Café' ].index , inplace=True)\n",
    "Cincinnati_venues2.drop(Cincinnati_venues2[Cincinnati_venues2['Coffeeshop Category'] == 'Café' ].index , inplace=True)\n",
    "Cincinnati_venues.drop(Cincinnati_venues[Cincinnati_venues['Brewery Category'] == 'Bar' ].index , inplace=True)\n",
    "Cincinnati_venues.drop(Cincinnati_venues[Cincinnati_venues['Brewery Category'] == 'Pub' ].index , inplace=True)"
   ]
  },
  {
   "cell_type": "markdown",
   "metadata": {},
   "source": [
    " ### Now, group each search by \"Neighborhood\" and count of Brewery / Coffeeshop"
   ]
  },
  {
   "cell_type": "code",
   "execution_count": 102,
   "metadata": {},
   "outputs": [],
   "source": [
    "# For Dayton\n",
    "Dayton_Coffee = Dayton_venues2.groupby('Neighborhood').count()  # Provide a count of Coffeeshops per neighborhood\n",
    "Dayton_Brew = Dayton_venues.groupby('Neighborhood').count()     # Provide a count of Breweries per neighborhood\n",
    "# For Cincinnati\n",
    "Cincinnati_Coffee = Cincinnati_venues2.groupby('Neighborhood').count()  # Provide a count of Coffeeshops per neighborhood\n",
    "Cincinnati_Brew = Cincinnati_venues.groupby('Neighborhood').count()     # Provide a count of Breweries per neighborhood"
   ]
  },
  {
   "cell_type": "markdown",
   "metadata": {},
   "source": [
    "### Now merge all the search results back together, first for Dayton, the repeat for Cincinnati"
   ]
  },
  {
   "cell_type": "code",
   "execution_count": 103,
   "metadata": {},
   "outputs": [
    {
     "name": "stdout",
     "output_type": "stream",
     "text": [
      "(31, 3)\n"
     ]
    },
    {
     "data": {
      "text/html": [
       "<div>\n",
       "<style scoped>\n",
       "    .dataframe tbody tr th:only-of-type {\n",
       "        vertical-align: middle;\n",
       "    }\n",
       "\n",
       "    .dataframe tbody tr th {\n",
       "        vertical-align: top;\n",
       "    }\n",
       "\n",
       "    .dataframe thead th {\n",
       "        text-align: right;\n",
       "    }\n",
       "</style>\n",
       "<table border=\"1\" class=\"dataframe\">\n",
       "  <thead>\n",
       "    <tr style=\"text-align: right;\">\n",
       "      <th></th>\n",
       "      <th>Neighborhood</th>\n",
       "      <th>Brewery</th>\n",
       "      <th>Coffeeshop</th>\n",
       "    </tr>\n",
       "  </thead>\n",
       "  <tbody>\n",
       "    <tr>\n",
       "      <td>0</td>\n",
       "      <td>Belmont</td>\n",
       "      <td>3</td>\n",
       "      <td>4</td>\n",
       "    </tr>\n",
       "    <tr>\n",
       "      <td>1</td>\n",
       "      <td>Burkhardt</td>\n",
       "      <td>1</td>\n",
       "      <td>1</td>\n",
       "    </tr>\n",
       "    <tr>\n",
       "      <td>2</td>\n",
       "      <td>Carillon</td>\n",
       "      <td>1</td>\n",
       "      <td>1</td>\n",
       "    </tr>\n",
       "    <tr>\n",
       "      <td>3</td>\n",
       "      <td>College Hill</td>\n",
       "      <td>1</td>\n",
       "      <td>0</td>\n",
       "    </tr>\n",
       "    <tr>\n",
       "      <td>4</td>\n",
       "      <td>Cornell Heights</td>\n",
       "      <td>1</td>\n",
       "      <td>0</td>\n",
       "    </tr>\n",
       "  </tbody>\n",
       "</table>\n",
       "</div>"
      ],
      "text/plain": [
       "      Neighborhood  Brewery  Coffeeshop\n",
       "0          Belmont        3           4\n",
       "1        Burkhardt        1           1\n",
       "2         Carillon        1           1\n",
       "3     College Hill        1           0\n",
       "4  Cornell Heights        1           0"
      ]
     },
     "execution_count": 103,
     "metadata": {},
     "output_type": "execute_result"
    }
   ],
   "source": [
    "Dayton_Brew2=Dayton_Brew[['Brewery']]\n",
    "Dayton_Brew2 = Dayton_Brew2.reset_index()\n",
    "\n",
    "Dayton_Coffee2=Dayton_Coffee[['Coffeeshop']]\n",
    "Dayton_Coffee2 = Dayton_Coffee2.reset_index()\n",
    "\n",
    "Dayton_merged = Dayton_Brew2.join(Dayton_Coffee2.set_index('Neighborhood'), on='Neighborhood')\n",
    "Dayton_merged =Dayton_merged.fillna(0)\n",
    "Dayton_merged =Dayton_merged.astype({'Coffeeshop': 'int32'})\n",
    "print(Dayton_merged.shape)\n",
    "Dayton_merged.head()"
   ]
  },
  {
   "cell_type": "code",
   "execution_count": 115,
   "metadata": {},
   "outputs": [
    {
     "name": "stdout",
     "output_type": "stream",
     "text": [
      "(62, 9)\n"
     ]
    },
    {
     "data": {
      "text/html": [
       "<div>\n",
       "<style scoped>\n",
       "    .dataframe tbody tr th:only-of-type {\n",
       "        vertical-align: middle;\n",
       "    }\n",
       "\n",
       "    .dataframe tbody tr th {\n",
       "        vertical-align: top;\n",
       "    }\n",
       "\n",
       "    .dataframe thead th {\n",
       "        text-align: right;\n",
       "    }\n",
       "</style>\n",
       "<table border=\"1\" class=\"dataframe\">\n",
       "  <thead>\n",
       "    <tr style=\"text-align: right;\">\n",
       "      <th></th>\n",
       "      <th>Latitude</th>\n",
       "      <th>Longitude</th>\n",
       "      <th>Neighborhood</th>\n",
       "      <th>City</th>\n",
       "      <th>State</th>\n",
       "      <th>County</th>\n",
       "      <th>Home Value</th>\n",
       "      <th>Brewery</th>\n",
       "      <th>Coffeeshop</th>\n",
       "    </tr>\n",
       "  </thead>\n",
       "  <tbody>\n",
       "    <tr>\n",
       "      <td>0</td>\n",
       "      <td>39.747656</td>\n",
       "      <td>-84.245002</td>\n",
       "      <td>Arlington Heights</td>\n",
       "      <td>Dayton</td>\n",
       "      <td>OH</td>\n",
       "      <td>Montgomery</td>\n",
       "      <td>30823</td>\n",
       "      <td>0</td>\n",
       "      <td>0</td>\n",
       "    </tr>\n",
       "    <tr>\n",
       "      <td>1</td>\n",
       "      <td>39.709226</td>\n",
       "      <td>-84.063269</td>\n",
       "      <td>Beavercreek</td>\n",
       "      <td>Dayton</td>\n",
       "      <td>OH</td>\n",
       "      <td>Greene</td>\n",
       "      <td>217489</td>\n",
       "      <td>0</td>\n",
       "      <td>0</td>\n",
       "    </tr>\n",
       "    <tr>\n",
       "      <td>2</td>\n",
       "      <td>39.733461</td>\n",
       "      <td>-84.140875</td>\n",
       "      <td>Belmont</td>\n",
       "      <td>Dayton</td>\n",
       "      <td>OH</td>\n",
       "      <td>Montgomery</td>\n",
       "      <td>87032</td>\n",
       "      <td>3</td>\n",
       "      <td>4</td>\n",
       "    </tr>\n",
       "    <tr>\n",
       "      <td>3</td>\n",
       "      <td>39.759672</td>\n",
       "      <td>-84.151428</td>\n",
       "      <td>Burkhardt</td>\n",
       "      <td>Dayton</td>\n",
       "      <td>OH</td>\n",
       "      <td>Montgomery</td>\n",
       "      <td>61238</td>\n",
       "      <td>1</td>\n",
       "      <td>1</td>\n",
       "    </tr>\n",
       "    <tr>\n",
       "      <td>4</td>\n",
       "      <td>39.741796</td>\n",
       "      <td>-84.200474</td>\n",
       "      <td>Carillon</td>\n",
       "      <td>Dayton</td>\n",
       "      <td>OH</td>\n",
       "      <td>Montgomery</td>\n",
       "      <td>31161</td>\n",
       "      <td>1</td>\n",
       "      <td>1</td>\n",
       "    </tr>\n",
       "  </tbody>\n",
       "</table>\n",
       "</div>"
      ],
      "text/plain": [
       "    Latitude  Longitude       Neighborhood    City State      County  \\\n",
       "0  39.747656 -84.245002  Arlington Heights  Dayton    OH  Montgomery   \n",
       "1  39.709226 -84.063269        Beavercreek  Dayton    OH      Greene   \n",
       "2  39.733461 -84.140875            Belmont  Dayton    OH  Montgomery   \n",
       "3  39.759672 -84.151428          Burkhardt  Dayton    OH  Montgomery   \n",
       "4  39.741796 -84.200474           Carillon  Dayton    OH  Montgomery   \n",
       "\n",
       "   Home Value Brewery Coffeeshop  \n",
       "0       30823       0          0  \n",
       "1      217489       0          0  \n",
       "2       87032       3          4  \n",
       "3       61238       1          1  \n",
       "4       31161       1          1  "
      ]
     },
     "execution_count": 115,
     "metadata": {},
     "output_type": "execute_result"
    }
   ],
   "source": [
    "#pd.set_option('display.max_rows', None)\n",
    "Dayton_all = Dayton_data.join(Dayton_merged.set_index('Neighborhood'), on='Neighborhood')\n",
    "Dayton_all =Dayton_all.fillna('0')\n",
    "print(Dayton_all.shape)\n",
    "Dayton_all.head()\n"
   ]
  },
  {
   "cell_type": "markdown",
   "metadata": {},
   "source": [
    "### Add in a \"normalized\" column for home value for the clustering step"
   ]
  },
  {
   "cell_type": "code",
   "execution_count": 131,
   "metadata": {},
   "outputs": [
    {
     "data": {
      "text/html": [
       "<div>\n",
       "<style scoped>\n",
       "    .dataframe tbody tr th:only-of-type {\n",
       "        vertical-align: middle;\n",
       "    }\n",
       "\n",
       "    .dataframe tbody tr th {\n",
       "        vertical-align: top;\n",
       "    }\n",
       "\n",
       "    .dataframe thead th {\n",
       "        text-align: right;\n",
       "    }\n",
       "</style>\n",
       "<table border=\"1\" class=\"dataframe\">\n",
       "  <thead>\n",
       "    <tr style=\"text-align: right;\">\n",
       "      <th></th>\n",
       "      <th>Latitude</th>\n",
       "      <th>Longitude</th>\n",
       "      <th>Neighborhood</th>\n",
       "      <th>City</th>\n",
       "      <th>State</th>\n",
       "      <th>County</th>\n",
       "      <th>Home Value</th>\n",
       "      <th>Brewery</th>\n",
       "      <th>Coffeeshop</th>\n",
       "      <th>HV_Norm</th>\n",
       "    </tr>\n",
       "  </thead>\n",
       "  <tbody>\n",
       "    <tr>\n",
       "      <td>0</td>\n",
       "      <td>39.747656</td>\n",
       "      <td>-84.245002</td>\n",
       "      <td>Arlington Heights</td>\n",
       "      <td>Dayton</td>\n",
       "      <td>OH</td>\n",
       "      <td>Montgomery</td>\n",
       "      <td>30823</td>\n",
       "      <td>0</td>\n",
       "      <td>0</td>\n",
       "      <td>0.30823</td>\n",
       "    </tr>\n",
       "    <tr>\n",
       "      <td>1</td>\n",
       "      <td>39.709226</td>\n",
       "      <td>-84.063269</td>\n",
       "      <td>Beavercreek</td>\n",
       "      <td>Dayton</td>\n",
       "      <td>OH</td>\n",
       "      <td>Greene</td>\n",
       "      <td>217489</td>\n",
       "      <td>0</td>\n",
       "      <td>0</td>\n",
       "      <td>2.17489</td>\n",
       "    </tr>\n",
       "    <tr>\n",
       "      <td>2</td>\n",
       "      <td>39.733461</td>\n",
       "      <td>-84.140875</td>\n",
       "      <td>Belmont</td>\n",
       "      <td>Dayton</td>\n",
       "      <td>OH</td>\n",
       "      <td>Montgomery</td>\n",
       "      <td>87032</td>\n",
       "      <td>3</td>\n",
       "      <td>4</td>\n",
       "      <td>0.87032</td>\n",
       "    </tr>\n",
       "    <tr>\n",
       "      <td>3</td>\n",
       "      <td>39.759672</td>\n",
       "      <td>-84.151428</td>\n",
       "      <td>Burkhardt</td>\n",
       "      <td>Dayton</td>\n",
       "      <td>OH</td>\n",
       "      <td>Montgomery</td>\n",
       "      <td>61238</td>\n",
       "      <td>1</td>\n",
       "      <td>1</td>\n",
       "      <td>0.61238</td>\n",
       "    </tr>\n",
       "    <tr>\n",
       "      <td>4</td>\n",
       "      <td>39.741796</td>\n",
       "      <td>-84.200474</td>\n",
       "      <td>Carillon</td>\n",
       "      <td>Dayton</td>\n",
       "      <td>OH</td>\n",
       "      <td>Montgomery</td>\n",
       "      <td>31161</td>\n",
       "      <td>1</td>\n",
       "      <td>1</td>\n",
       "      <td>0.31161</td>\n",
       "    </tr>\n",
       "  </tbody>\n",
       "</table>\n",
       "</div>"
      ],
      "text/plain": [
       "    Latitude  Longitude       Neighborhood    City State      County  \\\n",
       "0  39.747656 -84.245002  Arlington Heights  Dayton    OH  Montgomery   \n",
       "1  39.709226 -84.063269        Beavercreek  Dayton    OH      Greene   \n",
       "2  39.733461 -84.140875            Belmont  Dayton    OH  Montgomery   \n",
       "3  39.759672 -84.151428          Burkhardt  Dayton    OH  Montgomery   \n",
       "4  39.741796 -84.200474           Carillon  Dayton    OH  Montgomery   \n",
       "\n",
       "   Home Value Brewery Coffeeshop  HV_Norm  \n",
       "0       30823       0          0  0.30823  \n",
       "1      217489       0          0  2.17489  \n",
       "2       87032       3          4  0.87032  \n",
       "3       61238       1          1  0.61238  \n",
       "4       31161       1          1  0.31161  "
      ]
     },
     "execution_count": 131,
     "metadata": {},
     "output_type": "execute_result"
    }
   ],
   "source": [
    "Dayton_all['HV_Norm']=Dayton_all['Home Value']/100000\n",
    "Dayton_all.head()"
   ]
  },
  {
   "cell_type": "markdown",
   "metadata": {},
   "source": [
    "### Now repeat steps for Cincinnati data"
   ]
  },
  {
   "cell_type": "code",
   "execution_count": 104,
   "metadata": {},
   "outputs": [
    {
     "name": "stdout",
     "output_type": "stream",
     "text": [
      "(50, 3)\n"
     ]
    },
    {
     "data": {
      "text/html": [
       "<div>\n",
       "<style scoped>\n",
       "    .dataframe tbody tr th:only-of-type {\n",
       "        vertical-align: middle;\n",
       "    }\n",
       "\n",
       "    .dataframe tbody tr th {\n",
       "        vertical-align: top;\n",
       "    }\n",
       "\n",
       "    .dataframe thead th {\n",
       "        text-align: right;\n",
       "    }\n",
       "</style>\n",
       "<table border=\"1\" class=\"dataframe\">\n",
       "  <thead>\n",
       "    <tr style=\"text-align: right;\">\n",
       "      <th></th>\n",
       "      <th>Neighborhood</th>\n",
       "      <th>Brewery</th>\n",
       "      <th>Coffeeshop</th>\n",
       "    </tr>\n",
       "  </thead>\n",
       "  <tbody>\n",
       "    <tr>\n",
       "      <td>0</td>\n",
       "      <td>Amberley</td>\n",
       "      <td>2</td>\n",
       "      <td>0</td>\n",
       "    </tr>\n",
       "    <tr>\n",
       "      <td>1</td>\n",
       "      <td>Bridgetown North</td>\n",
       "      <td>3</td>\n",
       "      <td>0</td>\n",
       "    </tr>\n",
       "    <tr>\n",
       "      <td>2</td>\n",
       "      <td>CUF</td>\n",
       "      <td>8</td>\n",
       "      <td>3</td>\n",
       "    </tr>\n",
       "    <tr>\n",
       "      <td>3</td>\n",
       "      <td>California</td>\n",
       "      <td>1</td>\n",
       "      <td>0</td>\n",
       "    </tr>\n",
       "    <tr>\n",
       "      <td>4</td>\n",
       "      <td>Camp Washington</td>\n",
       "      <td>2</td>\n",
       "      <td>2</td>\n",
       "    </tr>\n",
       "  </tbody>\n",
       "</table>\n",
       "</div>"
      ],
      "text/plain": [
       "       Neighborhood  Brewery  Coffeeshop\n",
       "0          Amberley        2           0\n",
       "1  Bridgetown North        3           0\n",
       "2               CUF        8           3\n",
       "3        California        1           0\n",
       "4   Camp Washington        2           2"
      ]
     },
     "execution_count": 104,
     "metadata": {},
     "output_type": "execute_result"
    }
   ],
   "source": [
    "Cincinnati_Brew2=Cincinnati_Brew[['Brewery']]\n",
    "Cincinnati_Brew2 = Cincinnati_Brew2.reset_index()\n",
    "\n",
    "Cincinnati_Coffee2=Cincinnati_Coffee[['Coffeeshop']]\n",
    "Cincinnati_Coffee2 = Cincinnati_Coffee2.reset_index()\n",
    "\n",
    "Cincinnati_merged = Cincinnati_Brew2.join(Cincinnati_Coffee2.set_index('Neighborhood'), on='Neighborhood')\n",
    "Cincinnati_merged =Cincinnati_merged.fillna(0)\n",
    "Cincinnati_merged =Cincinnati_merged.astype({'Coffeeshop': 'int64'})\n",
    "print(Cincinnati_merged.shape)\n",
    "Cincinnati_merged.head()"
   ]
  },
  {
   "cell_type": "code",
   "execution_count": 124,
   "metadata": {},
   "outputs": [
    {
     "name": "stdout",
     "output_type": "stream",
     "text": [
      "(62, 9)\n"
     ]
    },
    {
     "data": {
      "text/html": [
       "<div>\n",
       "<style scoped>\n",
       "    .dataframe tbody tr th:only-of-type {\n",
       "        vertical-align: middle;\n",
       "    }\n",
       "\n",
       "    .dataframe tbody tr th {\n",
       "        vertical-align: top;\n",
       "    }\n",
       "\n",
       "    .dataframe thead th {\n",
       "        text-align: right;\n",
       "    }\n",
       "</style>\n",
       "<table border=\"1\" class=\"dataframe\">\n",
       "  <thead>\n",
       "    <tr style=\"text-align: right;\">\n",
       "      <th></th>\n",
       "      <th>Neighborhood</th>\n",
       "      <th>Latitude</th>\n",
       "      <th>Longitude</th>\n",
       "      <th>City</th>\n",
       "      <th>State</th>\n",
       "      <th>County</th>\n",
       "      <th>House Value</th>\n",
       "      <th>Brewery</th>\n",
       "      <th>Coffeeshop</th>\n",
       "    </tr>\n",
       "  </thead>\n",
       "  <tbody>\n",
       "    <tr>\n",
       "      <td>0</td>\n",
       "      <td>Avondale</td>\n",
       "      <td>39.144963</td>\n",
       "      <td>-84.497811</td>\n",
       "      <td>Cincinnati</td>\n",
       "      <td>OH</td>\n",
       "      <td>Hamilton</td>\n",
       "      <td>81719</td>\n",
       "      <td>0</td>\n",
       "      <td>0</td>\n",
       "    </tr>\n",
       "    <tr>\n",
       "      <td>1</td>\n",
       "      <td>Bond Hill</td>\n",
       "      <td>39.177785</td>\n",
       "      <td>-84.477659</td>\n",
       "      <td>Cincinnati</td>\n",
       "      <td>OH</td>\n",
       "      <td>Hamilton</td>\n",
       "      <td>111614</td>\n",
       "      <td>0</td>\n",
       "      <td>0</td>\n",
       "    </tr>\n",
       "    <tr>\n",
       "      <td>2</td>\n",
       "      <td>California</td>\n",
       "      <td>39.065338</td>\n",
       "      <td>-84.419893</td>\n",
       "      <td>Cincinnati</td>\n",
       "      <td>OH</td>\n",
       "      <td>Hamilton</td>\n",
       "      <td>128577</td>\n",
       "      <td>1</td>\n",
       "      <td>0</td>\n",
       "    </tr>\n",
       "    <tr>\n",
       "      <td>3</td>\n",
       "      <td>Camp Washington</td>\n",
       "      <td>39.137950</td>\n",
       "      <td>-84.537609</td>\n",
       "      <td>Cincinnati</td>\n",
       "      <td>OH</td>\n",
       "      <td>Hamilton</td>\n",
       "      <td>58310</td>\n",
       "      <td>2</td>\n",
       "      <td>2</td>\n",
       "    </tr>\n",
       "    <tr>\n",
       "      <td>4</td>\n",
       "      <td>Carthage</td>\n",
       "      <td>39.195869</td>\n",
       "      <td>-84.485014</td>\n",
       "      <td>Cincinnati</td>\n",
       "      <td>OH</td>\n",
       "      <td>Hamilton</td>\n",
       "      <td>68406</td>\n",
       "      <td>0</td>\n",
       "      <td>0</td>\n",
       "    </tr>\n",
       "  </tbody>\n",
       "</table>\n",
       "</div>"
      ],
      "text/plain": [
       "      Neighborhood   Latitude  Longitude        City State    County  \\\n",
       "0         Avondale  39.144963 -84.497811  Cincinnati    OH  Hamilton   \n",
       "1        Bond Hill  39.177785 -84.477659  Cincinnati    OH  Hamilton   \n",
       "2       California  39.065338 -84.419893  Cincinnati    OH  Hamilton   \n",
       "3  Camp Washington  39.137950 -84.537609  Cincinnati    OH  Hamilton   \n",
       "4         Carthage  39.195869 -84.485014  Cincinnati    OH  Hamilton   \n",
       "\n",
       "   House Value Brewery Coffeeshop  \n",
       "0        81719       0          0  \n",
       "1       111614       0          0  \n",
       "2       128577       1          0  \n",
       "3        58310       2          2  \n",
       "4        68406       0          0  "
      ]
     },
     "execution_count": 124,
     "metadata": {},
     "output_type": "execute_result"
    }
   ],
   "source": [
    "pd.set_option('display.max_rows', None)\n",
    "Cincinnati_all = Cincinnati_data.join(Cincinnati_merged.set_index('Neighborhood'), on='Neighborhood')\n",
    "Cincinnati_all =Cincinnati_all.fillna('0')\n",
    "print(Cincinnati_all.shape)\n",
    "Cincinnati_all.head()"
   ]
  },
  {
   "cell_type": "code",
   "execution_count": 133,
   "metadata": {},
   "outputs": [
    {
     "data": {
      "text/html": [
       "<div>\n",
       "<style scoped>\n",
       "    .dataframe tbody tr th:only-of-type {\n",
       "        vertical-align: middle;\n",
       "    }\n",
       "\n",
       "    .dataframe tbody tr th {\n",
       "        vertical-align: top;\n",
       "    }\n",
       "\n",
       "    .dataframe thead th {\n",
       "        text-align: right;\n",
       "    }\n",
       "</style>\n",
       "<table border=\"1\" class=\"dataframe\">\n",
       "  <thead>\n",
       "    <tr style=\"text-align: right;\">\n",
       "      <th></th>\n",
       "      <th>Neighborhood</th>\n",
       "      <th>Latitude</th>\n",
       "      <th>Longitude</th>\n",
       "      <th>City</th>\n",
       "      <th>State</th>\n",
       "      <th>County</th>\n",
       "      <th>House Value</th>\n",
       "      <th>Brewery</th>\n",
       "      <th>Coffeeshop</th>\n",
       "      <th>HV_Norm</th>\n",
       "    </tr>\n",
       "  </thead>\n",
       "  <tbody>\n",
       "    <tr>\n",
       "      <td>0</td>\n",
       "      <td>Avondale</td>\n",
       "      <td>39.144963</td>\n",
       "      <td>-84.497811</td>\n",
       "      <td>Cincinnati</td>\n",
       "      <td>OH</td>\n",
       "      <td>Hamilton</td>\n",
       "      <td>81719</td>\n",
       "      <td>0</td>\n",
       "      <td>0</td>\n",
       "      <td>0.81719</td>\n",
       "    </tr>\n",
       "    <tr>\n",
       "      <td>1</td>\n",
       "      <td>Bond Hill</td>\n",
       "      <td>39.177785</td>\n",
       "      <td>-84.477659</td>\n",
       "      <td>Cincinnati</td>\n",
       "      <td>OH</td>\n",
       "      <td>Hamilton</td>\n",
       "      <td>111614</td>\n",
       "      <td>0</td>\n",
       "      <td>0</td>\n",
       "      <td>1.11614</td>\n",
       "    </tr>\n",
       "    <tr>\n",
       "      <td>2</td>\n",
       "      <td>California</td>\n",
       "      <td>39.065338</td>\n",
       "      <td>-84.419893</td>\n",
       "      <td>Cincinnati</td>\n",
       "      <td>OH</td>\n",
       "      <td>Hamilton</td>\n",
       "      <td>128577</td>\n",
       "      <td>1</td>\n",
       "      <td>0</td>\n",
       "      <td>1.28577</td>\n",
       "    </tr>\n",
       "    <tr>\n",
       "      <td>3</td>\n",
       "      <td>Camp Washington</td>\n",
       "      <td>39.137950</td>\n",
       "      <td>-84.537609</td>\n",
       "      <td>Cincinnati</td>\n",
       "      <td>OH</td>\n",
       "      <td>Hamilton</td>\n",
       "      <td>58310</td>\n",
       "      <td>2</td>\n",
       "      <td>2</td>\n",
       "      <td>0.58310</td>\n",
       "    </tr>\n",
       "    <tr>\n",
       "      <td>4</td>\n",
       "      <td>Carthage</td>\n",
       "      <td>39.195869</td>\n",
       "      <td>-84.485014</td>\n",
       "      <td>Cincinnati</td>\n",
       "      <td>OH</td>\n",
       "      <td>Hamilton</td>\n",
       "      <td>68406</td>\n",
       "      <td>0</td>\n",
       "      <td>0</td>\n",
       "      <td>0.68406</td>\n",
       "    </tr>\n",
       "  </tbody>\n",
       "</table>\n",
       "</div>"
      ],
      "text/plain": [
       "      Neighborhood   Latitude  Longitude        City State    County  \\\n",
       "0         Avondale  39.144963 -84.497811  Cincinnati    OH  Hamilton   \n",
       "1        Bond Hill  39.177785 -84.477659  Cincinnati    OH  Hamilton   \n",
       "2       California  39.065338 -84.419893  Cincinnati    OH  Hamilton   \n",
       "3  Camp Washington  39.137950 -84.537609  Cincinnati    OH  Hamilton   \n",
       "4         Carthage  39.195869 -84.485014  Cincinnati    OH  Hamilton   \n",
       "\n",
       "   House Value Brewery Coffeeshop  HV_Norm  \n",
       "0        81719       0          0  0.81719  \n",
       "1       111614       0          0  1.11614  \n",
       "2       128577       1          0  1.28577  \n",
       "3        58310       2          2  0.58310  \n",
       "4        68406       0          0  0.68406  "
      ]
     },
     "execution_count": 133,
     "metadata": {},
     "output_type": "execute_result"
    }
   ],
   "source": [
    "Cincinnati_all['HV_Norm']=Cincinnati_all['House Value']/100000\n",
    "Cincinnati_all.head()"
   ]
  },
  {
   "cell_type": "markdown",
   "metadata": {},
   "source": [
    "## Part 2 will begin here!"
   ]
  },
  {
   "cell_type": "markdown",
   "metadata": {},
   "source": [
    "..."
   ]
  },
  {
   "cell_type": "markdown",
   "metadata": {},
   "source": [
    "## Definitions Saved at bottom of page to de-clutter the notebook... "
   ]
  },
  {
   "cell_type": "code",
   "execution_count": 16,
   "metadata": {},
   "outputs": [],
   "source": [
    "def getNearbyVenues(names, latitudes, longitudes, radius=500):\n",
    "    LIMIT = 100 # limit of number of venues returned by Foursquare API\n",
    "    radius = 1800 # define radius\n",
    "    venues_list=[]\n",
    "    query=\"Brewery\"\n",
    "    for name, lat, lng in zip(names, latitudes, longitudes):\n",
    "        #print(name)\n",
    "            \n",
    "        # create the API request URL\n",
    "        url = 'https://api.foursquare.com/v2/venues/explore?&client_id={}&client_secret={}&v={}&ll={},{}&query={}&radius={}'.format(   \n",
    "            CLIENT_ID, \n",
    "            CLIENT_SECRET, \n",
    "            VERSION, \n",
    "            lat, \n",
    "            lng, \n",
    "            query,\n",
    "            radius\n",
    "            )\n",
    "            \n",
    "        # make the GET request\n",
    "        results = requests.get(url).json()[\"response\"]['groups'][0]['items']\n",
    "        \n",
    "        # return only relevant information for each nearby venue\n",
    "        venues_list.append([(\n",
    "            name, \n",
    "            lat, \n",
    "            lng, \n",
    "            v['venue']['name'], \n",
    "            v['venue']['location']['lat'], \n",
    "            v['venue']['location']['lng'],  \n",
    "            v['venue']['categories'][0]['name']) for v in results])\n",
    "\n",
    "    nearby_venues = pd.DataFrame([item for venue_list in venues_list for item in venue_list])\n",
    "    nearby_venues.columns = ['Neighborhood', \n",
    "                  'Neighborhood Latitude', \n",
    "                  'Neighborhood Longitude', \n",
    "                  'Brewery', \n",
    "                  'Brewery Latitude', \n",
    "                  'Brewery Longitude', \n",
    "                  'Brewery Category']\n",
    "    \n",
    "    return(nearby_venues)"
   ]
  },
  {
   "cell_type": "code",
   "execution_count": 15,
   "metadata": {},
   "outputs": [],
   "source": [
    "def getNearbyVenues2(names, latitudes, longitudes, radius=500):\n",
    "    LIMIT = 100 # limit of number of venues returned by Foursquare API\n",
    "    radius = 1000 # define radius\n",
    "    venues_list=[]\n",
    "    query=\"Coffee shop\"\n",
    "    for name, lat, lng in zip(names, latitudes, longitudes):\n",
    "        #print(name)\n",
    "            \n",
    "        # create the API request URL\n",
    "        url = 'https://api.foursquare.com/v2/venues/explore?&client_id={}&client_secret={}&v={}&ll={},{}&query={}&radius={}'.format(   \n",
    "            CLIENT_ID, \n",
    "            CLIENT_SECRET, \n",
    "            VERSION, \n",
    "            lat, \n",
    "            lng, \n",
    "            query,\n",
    "            radius\n",
    "            )\n",
    "            \n",
    "        # make the GET request\n",
    "        results = requests.get(url).json()[\"response\"]['groups'][0]['items']\n",
    "        \n",
    "        # return only relevant information for each nearby venue\n",
    "        venues_list.append([(\n",
    "            name, \n",
    "            lat, \n",
    "            lng, \n",
    "            v['venue']['name'], \n",
    "            v['venue']['location']['lat'], \n",
    "            v['venue']['location']['lng'],  \n",
    "            v['venue']['categories'][0]['name']) for v in results])\n",
    "\n",
    "    nearby_venues = pd.DataFrame([item for venue_list in venues_list for item in venue_list])\n",
    "    nearby_venues.columns = ['Neighborhood', \n",
    "                  'Neighborhood Latitude', \n",
    "                  'Neighborhood Longitude', \n",
    "                  'Coffeeshop', \n",
    "                  'Coffeeshop Latitude', \n",
    "                  'Coffeeshop Longitude', \n",
    "                  'Coffeeshop Category']\n",
    "    \n",
    "    return(nearby_venues)"
   ]
  },
  {
   "cell_type": "code",
   "execution_count": null,
   "metadata": {},
   "outputs": [],
   "source": []
  }
 ],
 "metadata": {
  "kernelspec": {
   "display_name": "Python 3",
   "language": "python",
   "name": "python3"
  },
  "language_info": {
   "codemirror_mode": {
    "name": "ipython",
    "version": 3
   },
   "file_extension": ".py",
   "mimetype": "text/x-python",
   "name": "python",
   "nbconvert_exporter": "python",
   "pygments_lexer": "ipython3",
   "version": "3.7.4"
  }
 },
 "nbformat": 4,
 "nbformat_minor": 2
}
